{
 "cells": [
  {
   "cell_type": "markdown",
   "metadata": {},
   "source": [
    "# 作業\n",
    "* 試著想想看, 非監督學習是否有可能使用評價函數 (Metric) 來鑑別好壞呢?  \n",
    "(Hint : 可以分為 \"有目標值\" 與 \"無目標值\" 兩個方向思考)"
   ]
  },
  {
   "cell_type": "markdown",
   "metadata": {
    "collapsed": true
   },
   "source": [
    "Ans: 有的!! 無論資料無明確的標記或目標，可透過metrics去做資料的結構分群或是降維。\n",
    "\n",
    "- Clustering: 透過silhouette_score: $s = \\frac{b - a}{max(a, b)}$ 評判分群的效果，定性上s越高表示群之間的分別度高，反之亦然。 \n",
    "- Dimension Reduction: 將特徵空間縮小(維度降低)，在縮小維度的同時須找出該維度經過線性投影後的新資料在新維度上的差異度維持在最大化。   "
   ]
  }
 ],
 "metadata": {
  "kernelspec": {
   "display_name": "Python [default]",
   "language": "python",
   "name": "python3"
  },
  "language_info": {
   "codemirror_mode": {
    "name": "ipython",
    "version": 3
   },
   "file_extension": ".py",
   "mimetype": "text/x-python",
   "name": "python",
   "nbconvert_exporter": "python",
   "pygments_lexer": "ipython3",
   "version": "3.6.6"
  }
 },
 "nbformat": 4,
 "nbformat_minor": 1
}
