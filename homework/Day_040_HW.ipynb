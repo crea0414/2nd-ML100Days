{
 "cells": [
  {
   "cell_type": "markdown",
   "metadata": {},
   "source": [
    "## [作業重點]\n",
    "使用 Sklearn 中的 Lasso, Ridge 模型，來訓練各種資料集，務必了解送進去模型訓練的**資料型態**為何，也請了解模型中各項參數的意義。\n",
    "\n",
    "機器學習的模型非常多種，但要訓練的資料多半有固定的格式，確保你了解訓練資料的格式為何，這樣在應用新模型時，就能夠最快的上手開始訓練！"
   ]
  },
  {
   "cell_type": "markdown",
   "metadata": {},
   "source": [
    "## 練習時間\n",
    "試著使用 sklearn datasets 的其他資料集 (boston, ...)，來訓練自己的線性迴歸模型，並加上適當的正則話來觀察訓練情形。"
   ]
  },
  {
   "cell_type": "code",
   "execution_count": 1,
   "metadata": {},
   "outputs": [],
   "source": [
    "import numpy as np\n",
    "import pandas as pd\n",
    "import matplotlib.pyplot as plt\n",
    "import seaborn as sns\n",
    "%matplotlib inline"
   ]
  },
  {
   "cell_type": "code",
   "execution_count": 2,
   "metadata": {},
   "outputs": [],
   "source": [
    "from sklearn import datasets, linear_model\n",
    "from sklearn.model_selection import train_test_split, GridSearchCV, cross_val_score\n",
    "from sklearn.preprocessing import MinMaxScaler, StandardScaler\n",
    "from sklearn import metrics\n"
   ]
  },
  {
   "cell_type": "code",
   "execution_count": 3,
   "metadata": {},
   "outputs": [
    {
     "data": {
      "text/plain": [
       "dict_keys(['data', 'target', 'feature_names', 'DESCR', 'filename'])"
      ]
     },
     "execution_count": 3,
     "metadata": {},
     "output_type": "execute_result"
    }
   ],
   "source": [
    "boston = datasets.load_boston()\n",
    "boston.keys()"
   ]
  },
  {
   "cell_type": "code",
   "execution_count": 4,
   "metadata": {},
   "outputs": [
    {
     "name": "stdout",
     "output_type": "stream",
     "text": [
      ".. _boston_dataset:\n",
      "\n",
      "Boston house prices dataset\n",
      "---------------------------\n",
      "\n",
      "**Data Set Characteristics:**  \n",
      "\n",
      "    :Number of Instances: 506 \n",
      "\n",
      "    :Number of Attributes: 13 numeric/categorical predictive. Median Value (attribute 14) is usually the target.\n",
      "\n",
      "    :Attribute Information (in order):\n",
      "        - CRIM     per capita crime rate by town\n",
      "        - ZN       proportion of residential land zoned for lots over 25,000 sq.ft.\n",
      "        - INDUS    proportion of non-retail business acres per town\n",
      "        - CHAS     Charles River dummy variable (= 1 if tract bounds river; 0 otherwise)\n",
      "        - NOX      nitric oxides concentration (parts per 10 million)\n",
      "        - RM       average number of rooms per dwelling\n",
      "        - AGE      proportion of owner-occupied units built prior to 1940\n",
      "        - DIS      weighted distances to five Boston employment centres\n",
      "        - RAD      index of accessibility to radial highways\n",
      "        - TAX      full-value property-tax rate per $10,000\n",
      "        - PTRATIO  pupil-teacher ratio by town\n",
      "        - B        1000(Bk - 0.63)^2 where Bk is the proportion of blacks by town\n",
      "        - LSTAT    % lower status of the population\n",
      "        - MEDV     Median value of owner-occupied homes in $1000's\n",
      "\n",
      "    :Missing Attribute Values: None\n",
      "\n",
      "    :Creator: Harrison, D. and Rubinfeld, D.L.\n",
      "\n",
      "This is a copy of UCI ML housing dataset.\n",
      "https://archive.ics.uci.edu/ml/machine-learning-databases/housing/\n",
      "\n",
      "\n",
      "This dataset was taken from the StatLib library which is maintained at Carnegie Mellon University.\n",
      "\n",
      "The Boston house-price data of Harrison, D. and Rubinfeld, D.L. 'Hedonic\n",
      "prices and the demand for clean air', J. Environ. Economics & Management,\n",
      "vol.5, 81-102, 1978.   Used in Belsley, Kuh & Welsch, 'Regression diagnostics\n",
      "...', Wiley, 1980.   N.B. Various transformations are used in the table on\n",
      "pages 244-261 of the latter.\n",
      "\n",
      "The Boston house-price data has been used in many machine learning papers that address regression\n",
      "problems.   \n",
      "     \n",
      ".. topic:: References\n",
      "\n",
      "   - Belsley, Kuh & Welsch, 'Regression diagnostics: Identifying Influential Data and Sources of Collinearity', Wiley, 1980. 244-261.\n",
      "   - Quinlan,R. (1993). Combining Instance-Based and Model-Based Learning. In Proceedings on the Tenth International Conference of Machine Learning, 236-243, University of Massachusetts, Amherst. Morgan Kaufmann.\n",
      "\n"
     ]
    }
   ],
   "source": [
    "print(boston['DESCR'])"
   ]
  },
  {
   "cell_type": "code",
   "execution_count": 5,
   "metadata": {},
   "outputs": [
    {
     "data": {
      "text/html": [
       "<div>\n",
       "<style scoped>\n",
       "    .dataframe tbody tr th:only-of-type {\n",
       "        vertical-align: middle;\n",
       "    }\n",
       "\n",
       "    .dataframe tbody tr th {\n",
       "        vertical-align: top;\n",
       "    }\n",
       "\n",
       "    .dataframe thead th {\n",
       "        text-align: right;\n",
       "    }\n",
       "</style>\n",
       "<table border=\"1\" class=\"dataframe\">\n",
       "  <thead>\n",
       "    <tr style=\"text-align: right;\">\n",
       "      <th></th>\n",
       "      <th>CRIM</th>\n",
       "      <th>ZN</th>\n",
       "      <th>INDUS</th>\n",
       "      <th>CHAS</th>\n",
       "      <th>NOX</th>\n",
       "      <th>RM</th>\n",
       "      <th>AGE</th>\n",
       "      <th>DIS</th>\n",
       "      <th>RAD</th>\n",
       "      <th>TAX</th>\n",
       "      <th>PTRATIO</th>\n",
       "      <th>B</th>\n",
       "      <th>LSTAT</th>\n",
       "      <th>target_price</th>\n",
       "    </tr>\n",
       "  </thead>\n",
       "  <tbody>\n",
       "    <tr>\n",
       "      <th>0</th>\n",
       "      <td>0.00632</td>\n",
       "      <td>18.0</td>\n",
       "      <td>2.31</td>\n",
       "      <td>0.0</td>\n",
       "      <td>0.538</td>\n",
       "      <td>6.575</td>\n",
       "      <td>65.2</td>\n",
       "      <td>4.0900</td>\n",
       "      <td>1.0</td>\n",
       "      <td>296.0</td>\n",
       "      <td>15.3</td>\n",
       "      <td>396.90</td>\n",
       "      <td>4.98</td>\n",
       "      <td>24.0</td>\n",
       "    </tr>\n",
       "    <tr>\n",
       "      <th>1</th>\n",
       "      <td>0.02731</td>\n",
       "      <td>0.0</td>\n",
       "      <td>7.07</td>\n",
       "      <td>0.0</td>\n",
       "      <td>0.469</td>\n",
       "      <td>6.421</td>\n",
       "      <td>78.9</td>\n",
       "      <td>4.9671</td>\n",
       "      <td>2.0</td>\n",
       "      <td>242.0</td>\n",
       "      <td>17.8</td>\n",
       "      <td>396.90</td>\n",
       "      <td>9.14</td>\n",
       "      <td>21.6</td>\n",
       "    </tr>\n",
       "    <tr>\n",
       "      <th>2</th>\n",
       "      <td>0.02729</td>\n",
       "      <td>0.0</td>\n",
       "      <td>7.07</td>\n",
       "      <td>0.0</td>\n",
       "      <td>0.469</td>\n",
       "      <td>7.185</td>\n",
       "      <td>61.1</td>\n",
       "      <td>4.9671</td>\n",
       "      <td>2.0</td>\n",
       "      <td>242.0</td>\n",
       "      <td>17.8</td>\n",
       "      <td>392.83</td>\n",
       "      <td>4.03</td>\n",
       "      <td>34.7</td>\n",
       "    </tr>\n",
       "    <tr>\n",
       "      <th>3</th>\n",
       "      <td>0.03237</td>\n",
       "      <td>0.0</td>\n",
       "      <td>2.18</td>\n",
       "      <td>0.0</td>\n",
       "      <td>0.458</td>\n",
       "      <td>6.998</td>\n",
       "      <td>45.8</td>\n",
       "      <td>6.0622</td>\n",
       "      <td>3.0</td>\n",
       "      <td>222.0</td>\n",
       "      <td>18.7</td>\n",
       "      <td>394.63</td>\n",
       "      <td>2.94</td>\n",
       "      <td>33.4</td>\n",
       "    </tr>\n",
       "    <tr>\n",
       "      <th>4</th>\n",
       "      <td>0.06905</td>\n",
       "      <td>0.0</td>\n",
       "      <td>2.18</td>\n",
       "      <td>0.0</td>\n",
       "      <td>0.458</td>\n",
       "      <td>7.147</td>\n",
       "      <td>54.2</td>\n",
       "      <td>6.0622</td>\n",
       "      <td>3.0</td>\n",
       "      <td>222.0</td>\n",
       "      <td>18.7</td>\n",
       "      <td>396.90</td>\n",
       "      <td>5.33</td>\n",
       "      <td>36.2</td>\n",
       "    </tr>\n",
       "  </tbody>\n",
       "</table>\n",
       "</div>"
      ],
      "text/plain": [
       "      CRIM    ZN  INDUS  CHAS    NOX     RM   AGE     DIS  RAD    TAX  \\\n",
       "0  0.00632  18.0   2.31   0.0  0.538  6.575  65.2  4.0900  1.0  296.0   \n",
       "1  0.02731   0.0   7.07   0.0  0.469  6.421  78.9  4.9671  2.0  242.0   \n",
       "2  0.02729   0.0   7.07   0.0  0.469  7.185  61.1  4.9671  2.0  242.0   \n",
       "3  0.03237   0.0   2.18   0.0  0.458  6.998  45.8  6.0622  3.0  222.0   \n",
       "4  0.06905   0.0   2.18   0.0  0.458  7.147  54.2  6.0622  3.0  222.0   \n",
       "\n",
       "   PTRATIO       B  LSTAT  target_price  \n",
       "0     15.3  396.90   4.98          24.0  \n",
       "1     17.8  396.90   9.14          21.6  \n",
       "2     17.8  392.83   4.03          34.7  \n",
       "3     18.7  394.63   2.94          33.4  \n",
       "4     18.7  396.90   5.33          36.2  "
      ]
     },
     "execution_count": 5,
     "metadata": {},
     "output_type": "execute_result"
    }
   ],
   "source": [
    "boston_df = pd.DataFrame(boston.data, columns=boston.feature_names)\n",
    "boston_df = pd.concat([boston_df, pd.DataFrame(boston.target, columns=['target_price'])], axis=1)\n",
    "boston_df.head()"
   ]
  },
  {
   "cell_type": "code",
   "execution_count": 6,
   "metadata": {},
   "outputs": [
    {
     "name": "stdout",
     "output_type": "stream",
     "text": [
      "train/test:(379, 13)/(127, 13)\n"
     ]
    }
   ],
   "source": [
    "# split_dataset\n",
    "x_train, x_test, y_train, y_test = train_test_split(boston_df[boston.feature_names], boston_df.target_price, random_state=13)\n",
    "print('train/test:{}/{}'.format(x_train.shape, x_test.shape))"
   ]
  },
  {
   "cell_type": "code",
   "execution_count": 7,
   "metadata": {},
   "outputs": [],
   "source": [
    "ss_scaler = StandardScaler()\n",
    "linear_reg = linear_model.LinearRegression()\n",
    "Lasso_reg = linear_model.Lasso()\n",
    "Ridge_reg = linear_model.Ridge()"
   ]
  },
  {
   "cell_type": "code",
   "execution_count": 9,
   "metadata": {},
   "outputs": [],
   "source": [
    "# regression_metric:\n",
    "def r2_score_(y_true, y_pred):\n",
    "    return 1 - (np.sum(np.square(y_pred - y_true)) / np.sum(np.square(y_true - y_true.mean())))"
   ]
  },
  {
   "cell_type": "code",
   "execution_count": 10,
   "metadata": {},
   "outputs": [
    {
     "name": "stdout",
     "output_type": "stream",
     "text": [
      "linear_cv_mean:0.701615716669169/[0.73134096 0.67586937 0.68795073 0.77447125 0.63844627]\n",
      "linear_explained_variance_score: 0.7445495716932606\n",
      "linear_train_r2_score_diy: 0.7445495716932605\n",
      "linear_train_r2_score:0.7445495716932605\n",
      "linear_train_r2_score:[0.74454957]\n",
      "linear_test_r2_score:[0.71219288]\n",
      "linear_test_r2_score_diy: 0.7121928806832926\n",
      "\n",
      "train_mse_loss_diy: 21.069982302970864\n",
      "train_mse_loss: 21.069982302970864\n",
      "test_mse_loss_diy: 25.806326618670038\n",
      "test_mse_loss: 25.806326618670038\n"
     ]
    }
   ],
   "source": [
    "#Base data preprossing >> feature scaling\n",
    "ss_scaler.fit(x_train, y_train)\n",
    "x_train_ss = ss_scaler.transform(x_train)\n",
    "x_test_ss = ss_scaler.transform(x_test)\n",
    "# linear_reg\n",
    "result_linear = cross_val_score(linear_reg, x_train_ss, y_train, cv=5)\n",
    "linear_reg.fit(x_train_ss, y_train)\n",
    "y_train_predict = linear_reg.predict(x_train_ss)\n",
    "y_test_predict = linear_reg.predict(x_test_ss)\n",
    "r2_score_train_diy = r2_score_(y_train, y_train_predict)\n",
    "r2_score_test_diy = r2_score_(y_test, y_test_predict)\n",
    "print('linear_cv_mean:{}/{}'.format(result_linear.mean(), result_linear))\n",
    "print('linear_explained_variance_score:', metrics.explained_variance_score(y_train, y_train_predict))\n",
    "print('linear_train_r2_score_diy:', r2_score_train_diy)\n",
    "print('linear_train_r2_score:{}'.format(linear_reg.score(x_train_ss, y_train)))\n",
    "print('linear_train_r2_score:{}'.format(metrics.r2_score(y_train,y_train_predict, multioutput='raw_values')))\n",
    "print('linear_test_r2_score:{}'.format(metrics.r2_score(y_test, y_test_predict, multioutput='raw_values')))\n",
    "print('linear_test_r2_score_diy:', r2_score_test_diy)\n",
    "print('\\ntrain_mse_loss_diy:', np.mean(np.square(linear_reg.predict(x_train_ss) - y_train)))\n",
    "print('train_mse_loss:', metrics.mean_squared_error(y_train, y_train_predict))\n",
    "print('test_mse_loss_diy:', np.mean(np.square(linear_reg.predict(x_test_ss) - y_test)))\n",
    "print('test_mse_loss:', metrics.mean_squared_error(y_test, y_test_predict))\n"
   ]
  },
  {
   "cell_type": "code",
   "execution_count": 11,
   "metadata": {},
   "outputs": [
    {
     "name": "stdout",
     "output_type": "stream",
     "text": [
      "lasso_cv_mean:0.6502321382996942/[0.77451061 0.62386538 0.59219736 0.6949521  0.56563525]\n",
      "lasso_explained_variance_score: 0.6609020175881553\n",
      "lasso_train_r2_score_diy: 0.6609020175881553\n",
      "lasso_train_r2_score:0.6609020175881553\n",
      "lasso_train_r2_score:[0.66090202]\n",
      "lasso_test_r2_score:[0.68087432]\n",
      "lasso_test_r2_score_diy: 0.6808743208504415\n",
      "\n",
      "train_mse_loss_diy: 27.969373689252084\n",
      "train_mse_loss: 27.969373689252084\n",
      "test_mse_loss_diy: 28.61451630553995\n",
      "test_mse_loss: 28.61451630553995\n"
     ]
    }
   ],
   "source": [
    "#Lasso regressor\n",
    "result_lasso = cross_val_score(Lasso_reg, x_train_ss, y_train, cv=5)\n",
    "Lasso_reg.fit(x_train_ss, y_train)\n",
    "y_train_predict = Lasso_reg.predict(x_train_ss)\n",
    "y_test_predict = Lasso_reg.predict(x_test_ss)\n",
    "r2_score_train_diy = r2_score_(y_train, y_train_predict)\n",
    "r2_score_test_diy = r2_score_(y_test, y_test_predict)\n",
    "print('lasso_cv_mean:{}/{}'.format(result_lasso.mean(), result_lasso))\n",
    "print('lasso_explained_variance_score:', metrics.explained_variance_score(y_train, y_train_predict))\n",
    "print('lasso_train_r2_score_diy:', r2_score_train_diy)\n",
    "print('lasso_train_r2_score:{}'.format(Lasso_reg.score(x_train_ss, y_train)))\n",
    "print('lasso_train_r2_score:{}'.format(metrics.r2_score(y_train,y_train_predict, multioutput='raw_values')))\n",
    "print('lasso_test_r2_score:{}'.format(metrics.r2_score(y_test, y_test_predict, multioutput='raw_values')))\n",
    "print('lasso_test_r2_score_diy:', r2_score_test_diy)\n",
    "print('\\ntrain_mse_loss_diy:', np.mean(np.square(Lasso_reg.predict(x_train_ss) - y_train)))\n",
    "print('train_mse_loss:', metrics.mean_squared_error(y_train, y_train_predict))\n",
    "print('test_mse_loss_diy:', np.mean(np.square(Lasso_reg.predict(x_test_ss) - y_test)))\n",
    "print('test_mse_loss:', metrics.mean_squared_error(y_test, y_test_predict))"
   ]
  },
  {
   "cell_type": "code",
   "execution_count": 12,
   "metadata": {},
   "outputs": [
    {
     "name": "stdout",
     "output_type": "stream",
     "text": [
      "best_alpha: 0.03826943096892057\n",
      "train_score: 0.7437747764846194\n",
      "test_score: 0.7145664788674476\n",
      "Lasso_coef: [-1.20713214  1.25187964 -0.11348253  0.8487891  -1.18583137  2.47284803\n",
      " -0.         -2.78899528  2.42661236 -1.88021963 -1.75953682  0.66358063\n",
      " -3.94111898]\n",
      "best_alpha: 8.796285730941115e-06\n",
      "train_score: 0.7445495543246335\n",
      "test_score: 0.7122063971911516\n",
      "Lasso_coef: [-1.31848811  1.37387076 -0.07199789  0.84541371 -1.36624796  2.41345912\n",
      "  0.         -3.04480124  2.97203584 -2.33473871 -1.81925436  0.70050975\n",
      " -3.93731775]\n",
      "best_alpha: 0.05550872485120724\n",
      "train_score: 0.6554348804796464\n",
      "test_score: 0.6780890386459045\n",
      "Lasso_coef: [ 0.          0.          0.          0.20466294  0.          2.55665571\n",
      "  0.          0.          0.          0.         -1.13949049  0.\n",
      " -3.64815522]\n"
     ]
    }
   ],
   "source": [
    "#Lasso_CV\n",
    "Lasso_reg_cv = linear_model.LassoCV(cv=5, random_state=0).fit(x_train_ss, y_train)\n",
    "#print('all_alphas:', Lasso_reg_cv.alphas_)\n",
    "print('best_alpha:', Lasso_reg_cv.alpha_)\n",
    "print('train_score:', Lasso_reg_cv.score(x_train_ss, y_train))\n",
    "print('test_score:', Lasso_reg_cv.score(x_test_ss, y_test))\n",
    "print('Lasso_coef:', Lasso_reg_cv.coef_)\n",
    "Lasso_reg_LarsIC = linear_model.LassoLarsIC(criterion='aic').fit(x_train_ss, y_train)\n",
    "print('best_alpha:', Lasso_reg_LarsIC.alpha_)\n",
    "print('train_score:', Lasso_reg_LarsIC.score(x_train_ss, y_train))\n",
    "print('test_score:', Lasso_reg_LarsIC.score(x_test_ss, y_test))\n",
    "print('Lasso_coef:', Lasso_reg_LarsIC.coef_)\n",
    "Lasso_reg_LarsIC = linear_model.LassoLarsIC(criterion='bic').fit(x_train_ss, y_train)\n",
    "print('best_alpha:', Lasso_reg_LarsIC.alpha_)\n",
    "print('train_score:', Lasso_reg_LarsIC.score(x_train_ss, y_train))\n",
    "print('test_score:', Lasso_reg_LarsIC.score(x_test_ss, y_test))\n",
    "print('Lasso_coef:', Lasso_reg_LarsIC.coef_)"
   ]
  },
  {
   "cell_type": "code",
   "execution_count": 13,
   "metadata": {},
   "outputs": [
    {
     "name": "stderr",
     "output_type": "stream",
     "text": [
      "C:\\Users\\crea\\Anaconda3\\envs\\my_env\\lib\\site-packages\\sklearn\\model_selection\\_search.py:841: DeprecationWarning: The default of the `iid` parameter will change from True to False in version 0.22 and will be removed in 0.24. This will change numeric results when test-set sizes are unequal.\n",
      "  DeprecationWarning)\n"
     ]
    },
    {
     "name": "stdout",
     "output_type": "stream",
     "text": [
      "**: make_scorer(explained_variance_score)\n",
      "Lasso_reg_GSCV.best_params_: {'alpha': 0.0656}\n",
      "Lasso_reg_GSCV.best_score_(train): 0.7141497188793662\n",
      "Lasso_reg_GSCV.test_score: 0.7153532528603115\n",
      "Lasso_reg_GSCV.best_estimator_.coef_: [-1.12751972  1.16444237 -0.1428565   0.85111535 -1.0568483   2.5153603\n",
      " -0.         -2.60559717  2.03684452 -1.55534622 -1.71688793  0.63713131\n",
      " -3.94377061]\n"
     ]
    },
    {
     "name": "stderr",
     "output_type": "stream",
     "text": [
      "C:\\Users\\crea\\Anaconda3\\envs\\my_env\\lib\\site-packages\\sklearn\\model_selection\\_search.py:841: DeprecationWarning: The default of the `iid` parameter will change from True to False in version 0.22 and will be removed in 0.24. This will change numeric results when test-set sizes are unequal.\n",
      "  DeprecationWarning)\n"
     ]
    },
    {
     "name": "stdout",
     "output_type": "stream",
     "text": [
      "**: make_scorer(r2_score)\n",
      "Lasso_reg_GSCV.best_params_: {'alpha': 0.0609}\n",
      "Lasso_reg_GSCV.best_score_(train): 0.705534892878949\n",
      "Lasso_reg_GSCV.test_score: 0.7152718357760801\n",
      "Lasso_reg_GSCV.best_estimator_.coef_: [-1.14119711  1.1794703  -0.13780747  0.85071871 -1.07901591  2.50805807\n",
      " -0.         -2.63712275  2.10380751 -1.61116586 -1.72421696  0.64167861\n",
      " -3.94331649]\n",
      "**: make_scorer(mean_squared_error, greater_is_better=False)\n",
      "Lasso_reg_GSCV.best_params_: {'alpha': 0.0386}\n",
      "Lasso_reg_GSCV.best_score_(train): -24.293861536325807\n",
      "Lasso_reg_GSCV.test_score: 0.7145804949159187\n",
      "Lasso_reg_GSCV.best_estimator_.coef_: [-1.20617002  1.25082261 -0.11383787  0.84881705 -1.18427206  2.47336168\n",
      " -0.         -2.78677793  2.42190179 -1.87629296 -1.75902125  0.66326078\n",
      " -3.94115093]\n"
     ]
    },
    {
     "name": "stderr",
     "output_type": "stream",
     "text": [
      "C:\\Users\\crea\\Anaconda3\\envs\\my_env\\lib\\site-packages\\sklearn\\model_selection\\_search.py:841: DeprecationWarning: The default of the `iid` parameter will change from True to False in version 0.22 and will be removed in 0.24. This will change numeric results when test-set sizes are unequal.\n",
      "  DeprecationWarning)\n"
     ]
    }
   ],
   "source": [
    "#GridSearch\n",
    "score_for_Lasso =['explained_variance', 'r2', 'neg_mean_squared_error']\n",
    "\n",
    "for score in score_for_Lasso:\n",
    "    Lasso_reg_GSCV = GridSearchCV(Lasso_reg, param_grid=[{'alpha':[10**(-i) for i in range(0, 8)]},\n",
    "                                                        {'alpha':[0.01*(i) for i in range(1, 10)]},\n",
    "                                                        {'alpha':[0.0001*(i) for i in range(1, 1000)]}\n",
    "                                                        ],\n",
    "                                              scoring=score, cv=5)\n",
    "    Lasso_reg_GSCV.fit(x_train_ss, y_train)\n",
    "    print('**:', Lasso_reg_GSCV.scorer_)\n",
    "    print('Lasso_reg_GSCV.best_params_:', Lasso_reg_GSCV.best_params_)\n",
    "    print('Lasso_reg_GSCV.best_score_(train):', Lasso_reg_GSCV.best_score_)\n",
    "    print('Lasso_reg_GSCV.test_score:', metrics.r2_score(y_test, Lasso_reg_GSCV.best_estimator_.predict(x_test_ss)))\n",
    "    print('Lasso_reg_GSCV.best_estimator_.coef_:', Lasso_reg_GSCV.best_estimator_.coef_)"
   ]
  },
  {
   "cell_type": "code",
   "execution_count": 14,
   "metadata": {},
   "outputs": [
    {
     "name": "stdout",
     "output_type": "stream",
     "text": [
      "ridge_cv_mean:0.6502321382996942/[0.77451061 0.62386538 0.59219736 0.6949521  0.56563525]\n",
      "ridge_explained_variance_score: 0.7445261917282574\n",
      "ridge_train_r2_score_diy: 0.7445261917282574\n",
      "ridge_train_r2_score:0.7445261917282574\n",
      "ridge_train_r2_score:[0.74452619]\n",
      "ridge_test_r2_score:[0.7126988]\n",
      "ridge_test_r2_score_diy: 0.7126988036813631\n",
      "\n",
      "train_mse_loss_diy: 21.071910721929193\n",
      "train_mse_loss: 21.071910721929193\n",
      "test_mse_loss_diy: 25.76096285503869\n",
      "test_mse_loss: 25.76096285503869\n"
     ]
    }
   ],
   "source": [
    "#Ridge regressor\n",
    "result_ridge = cross_val_score(Ridge_reg, x_train_ss, y_train, cv=5)\n",
    "Ridge_reg.fit(x_train_ss, y_train)\n",
    "y_train_predict = Ridge_reg.predict(x_train_ss)\n",
    "y_test_predict = Ridge_reg.predict(x_test_ss)\n",
    "r2_score_train_diy = r2_score_(y_train, y_train_predict)\n",
    "r2_score_test_diy = r2_score_(y_test, y_test_predict)\n",
    "print('ridge_cv_mean:{}/{}'.format(result_lasso.mean(), result_lasso))\n",
    "print('ridge_explained_variance_score:', metrics.explained_variance_score(y_train, y_train_predict))\n",
    "print('ridge_train_r2_score_diy:', r2_score_train_diy)\n",
    "print('ridge_train_r2_score:{}'.format(Ridge_reg.score(x_train_ss, y_train)))\n",
    "print('ridge_train_r2_score:{}'.format(metrics.r2_score(y_train,y_train_predict, multioutput='raw_values')))\n",
    "print('ridge_test_r2_score:{}'.format(metrics.r2_score(y_test, y_test_predict, multioutput='raw_values')))\n",
    "print('ridge_test_r2_score_diy:', r2_score_test_diy)\n",
    "print('\\ntrain_mse_loss_diy:', np.mean(np.square(y_train_predict - y_train)))\n",
    "print('train_mse_loss:', metrics.mean_squared_error(y_train, y_train_predict))\n",
    "print('test_mse_loss_diy:', np.mean(np.square(y_test_predict - y_test)))\n",
    "print('test_mse_loss:', metrics.mean_squared_error(y_test, y_test_predict))"
   ]
  },
  {
   "cell_type": "code",
   "execution_count": 15,
   "metadata": {},
   "outputs": [
    {
     "name": "stdout",
     "output_type": "stream",
     "text": [
      "best_alpha: 10.0\n",
      "train_score: 0.7430629361398937\n",
      "test_score: 0.7154138257715341\n",
      "Lasso_coef: [-1.20840394  1.21513735 -0.27106532  0.88846807 -1.13520968  2.51450315\n",
      " -0.05664465 -2.74400275  2.22270171 -1.63854362 -1.7391258   0.69746321\n",
      " -3.77269455]\n"
     ]
    },
    {
     "name": "stderr",
     "output_type": "stream",
     "text": [
      "C:\\Users\\crea\\Anaconda3\\envs\\my_env\\lib\\site-packages\\sklearn\\model_selection\\_search.py:841: DeprecationWarning: The default of the `iid` parameter will change from True to False in version 0.22 and will be removed in 0.24. This will change numeric results when test-set sizes are unequal.\n",
      "  DeprecationWarning)\n"
     ]
    }
   ],
   "source": [
    "#Ridge_CV\n",
    "Ridge_reg_cv = linear_model.RidgeCV(cv=5).fit(x_train_ss, y_train)\n",
    "print('best_alpha:', Ridge_reg_cv.alpha_)\n",
    "print('train_score:', Ridge_reg_cv.score(x_train_ss, y_train))\n",
    "print('test_score:', Ridge_reg_cv.score(x_test_ss, y_test))\n",
    "print('Lasso_coef:', Ridge_reg_cv.coef_)\n"
   ]
  },
  {
   "cell_type": "code",
   "execution_count": 16,
   "metadata": {},
   "outputs": [
    {
     "name": "stderr",
     "output_type": "stream",
     "text": [
      "C:\\Users\\crea\\Anaconda3\\envs\\my_env\\lib\\site-packages\\sklearn\\model_selection\\_search.py:841: DeprecationWarning: The default of the `iid` parameter will change from True to False in version 0.22 and will be removed in 0.24. This will change numeric results when test-set sizes are unequal.\n",
      "  DeprecationWarning)\n"
     ]
    },
    {
     "name": "stdout",
     "output_type": "stream",
     "text": [
      "**: make_scorer(explained_variance_score)\n",
      "Ridge_reg_GSCV.best_params_: {'alpha': 10}\n",
      "Ridge_reg_GSCV.best_score_(train): 0.7172761819619052\n",
      "Ridge_reg_GSCV.test_score: 0.7154138257715341\n",
      "Ridge_reg_GSCV.best_estimator_.coef_: [-1.20840394  1.21513735 -0.27106532  0.88846807 -1.13520968  2.51450315\n",
      " -0.05664465 -2.74400275  2.22270171 -1.63854362 -1.7391258   0.69746321\n",
      " -3.77269455]\n"
     ]
    },
    {
     "name": "stderr",
     "output_type": "stream",
     "text": [
      "C:\\Users\\crea\\Anaconda3\\envs\\my_env\\lib\\site-packages\\sklearn\\model_selection\\_search.py:841: DeprecationWarning: The default of the `iid` parameter will change from True to False in version 0.22 and will be removed in 0.24. This will change numeric results when test-set sizes are unequal.\n",
      "  DeprecationWarning)\n"
     ]
    },
    {
     "name": "stdout",
     "output_type": "stream",
     "text": [
      "**: make_scorer(r2_score)\n",
      "Ridge_reg_GSCV.best_params_: {'alpha': 10}\n",
      "Ridge_reg_GSCV.best_score_(train): 0.7083596803914537\n",
      "Ridge_reg_GSCV.test_score: 0.7154138257715341\n",
      "Ridge_reg_GSCV.best_estimator_.coef_: [-1.20840394  1.21513735 -0.27106532  0.88846807 -1.13520968  2.51450315\n",
      " -0.05664465 -2.74400275  2.22270171 -1.63854362 -1.7391258   0.69746321\n",
      " -3.77269455]\n",
      "**: make_scorer(mean_squared_error, greater_is_better=False)\n",
      "Ridge_reg_GSCV.best_params_: {'alpha': 10}\n",
      "Ridge_reg_GSCV.best_score_(train): -24.102523776382274\n",
      "Ridge_reg_GSCV.test_score: 0.7154138257715341\n",
      "Ridge_reg_GSCV.best_estimator_.coef_: [-1.20840394  1.21513735 -0.27106532  0.88846807 -1.13520968  2.51450315\n",
      " -0.05664465 -2.74400275  2.22270171 -1.63854362 -1.7391258   0.69746321\n",
      " -3.77269455]\n"
     ]
    },
    {
     "name": "stderr",
     "output_type": "stream",
     "text": [
      "C:\\Users\\crea\\Anaconda3\\envs\\my_env\\lib\\site-packages\\sklearn\\model_selection\\_search.py:841: DeprecationWarning: The default of the `iid` parameter will change from True to False in version 0.22 and will be removed in 0.24. This will change numeric results when test-set sizes are unequal.\n",
      "  DeprecationWarning)\n"
     ]
    }
   ],
   "source": [
    "#GridSearch\n",
    "score_for_Lasso =['explained_variance', 'r2', 'neg_mean_squared_error']\n",
    "\n",
    "for score in score_for_Lasso:\n",
    "    Ridge_reg_GSCV = GridSearchCV(Ridge_reg, param_grid=[{'alpha':[10**(i) for i in range(0, 8)]},\n",
    "                                                        #{'alpha':[0.01*(i) for i in range(1, 10)]},\n",
    "                                                        {'alpha':[0.0001*(i) for i in range(1, 1000)]}],\n",
    "                                              scoring=score, cv=5)\n",
    "    Ridge_reg_GSCV.fit(x_train_ss, y_train)\n",
    "    print('**:', Ridge_reg_GSCV.scorer_)\n",
    "    print('Ridge_reg_GSCV.best_params_:', Ridge_reg_GSCV.best_params_)\n",
    "    print('Ridge_reg_GSCV.best_score_(train):', Ridge_reg_GSCV.best_score_)\n",
    "    print('Ridge_reg_GSCV.test_score:', metrics.r2_score(y_test, Ridge_reg_GSCV.best_estimator_.predict(x_test_ss)))\n",
    "    print('Ridge_reg_GSCV.best_estimator_.coef_:', Ridge_reg_GSCV.best_estimator_.coef_)"
   ]
  }
 ],
 "metadata": {
  "kernelspec": {
   "display_name": "Python [conda env:my_env]",
   "language": "python",
   "name": "conda-env-my_env-py"
  },
  "language_info": {
   "codemirror_mode": {
    "name": "ipython",
    "version": 3
   },
   "file_extension": ".py",
   "mimetype": "text/x-python",
   "name": "python",
   "nbconvert_exporter": "python",
   "pygments_lexer": "ipython3",
   "version": "3.6.6"
  }
 },
 "nbformat": 4,
 "nbformat_minor": 2
}
