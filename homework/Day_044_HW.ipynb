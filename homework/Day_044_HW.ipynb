{
 "cells": [
  {
   "cell_type": "markdown",
   "metadata": {},
   "source": [
    "## [作業重點]\n",
    "確保你了解隨機森林模型中每個超參數的意義，並觀察調整超參數對結果的影響"
   ]
  },
  {
   "cell_type": "markdown",
   "metadata": {},
   "source": [
    "## 作業\n",
    "\n",
    "1. 試著調整 RandomForestClassifier(...) 中的參數，並觀察是否會改變結果？\n",
    "2. 改用其他資料集 (boston, wine)，並與回歸模型與決策樹的結果進行比較"
   ]
  },
  {
   "cell_type": "code",
   "execution_count": 280,
   "metadata": {},
   "outputs": [],
   "source": [
    "from sklearn import datasets, metrics\n",
    "from sklearn.ensemble import RandomForestClassifier, RandomForestRegressor\n",
    "from sklearn.linear_model import LogisticRegressionCV, Ridge, LogisticRegression, RidgeCV, Lasso, LassoCV\n",
    "from sklearn.model_selection import train_test_split, cross_val_score, GridSearchCV\n",
    "from sklearn.preprocessing import StandardScaler\n",
    "import numpy as np\n",
    "import pandas as pd\n",
    "import matplotlib.pyplot as plt\n",
    "import seaborn as sns\n",
    "import warnings\n",
    "warnings.filterwarnings('ignore')"
   ]
  },
  {
   "cell_type": "markdown",
   "metadata": {},
   "source": [
    "\n",
    "# Wine Random Forest"
   ]
  },
  {
   "cell_type": "code",
   "execution_count": 5,
   "metadata": {},
   "outputs": [
    {
     "data": {
      "text/html": [
       "<div>\n",
       "<style scoped>\n",
       "    .dataframe tbody tr th:only-of-type {\n",
       "        vertical-align: middle;\n",
       "    }\n",
       "\n",
       "    .dataframe tbody tr th {\n",
       "        vertical-align: top;\n",
       "    }\n",
       "\n",
       "    .dataframe thead th {\n",
       "        text-align: right;\n",
       "    }\n",
       "</style>\n",
       "<table border=\"1\" class=\"dataframe\">\n",
       "  <thead>\n",
       "    <tr style=\"text-align: right;\">\n",
       "      <th></th>\n",
       "      <th>alcohol</th>\n",
       "      <th>malic_acid</th>\n",
       "      <th>ash</th>\n",
       "      <th>alcalinity_of_ash</th>\n",
       "      <th>magnesium</th>\n",
       "      <th>total_phenols</th>\n",
       "      <th>flavanoids</th>\n",
       "      <th>nonflavanoid_phenols</th>\n",
       "      <th>proanthocyanins</th>\n",
       "      <th>color_intensity</th>\n",
       "      <th>hue</th>\n",
       "      <th>od280/od315_of_diluted_wines</th>\n",
       "      <th>proline</th>\n",
       "      <th>Target</th>\n",
       "    </tr>\n",
       "  </thead>\n",
       "  <tbody>\n",
       "    <tr>\n",
       "      <th>0</th>\n",
       "      <td>14.23</td>\n",
       "      <td>1.71</td>\n",
       "      <td>2.43</td>\n",
       "      <td>15.6</td>\n",
       "      <td>127.0</td>\n",
       "      <td>2.80</td>\n",
       "      <td>3.06</td>\n",
       "      <td>0.28</td>\n",
       "      <td>2.29</td>\n",
       "      <td>5.64</td>\n",
       "      <td>1.04</td>\n",
       "      <td>3.92</td>\n",
       "      <td>1065.0</td>\n",
       "      <td>0</td>\n",
       "    </tr>\n",
       "    <tr>\n",
       "      <th>1</th>\n",
       "      <td>13.20</td>\n",
       "      <td>1.78</td>\n",
       "      <td>2.14</td>\n",
       "      <td>11.2</td>\n",
       "      <td>100.0</td>\n",
       "      <td>2.65</td>\n",
       "      <td>2.76</td>\n",
       "      <td>0.26</td>\n",
       "      <td>1.28</td>\n",
       "      <td>4.38</td>\n",
       "      <td>1.05</td>\n",
       "      <td>3.40</td>\n",
       "      <td>1050.0</td>\n",
       "      <td>0</td>\n",
       "    </tr>\n",
       "    <tr>\n",
       "      <th>2</th>\n",
       "      <td>13.16</td>\n",
       "      <td>2.36</td>\n",
       "      <td>2.67</td>\n",
       "      <td>18.6</td>\n",
       "      <td>101.0</td>\n",
       "      <td>2.80</td>\n",
       "      <td>3.24</td>\n",
       "      <td>0.30</td>\n",
       "      <td>2.81</td>\n",
       "      <td>5.68</td>\n",
       "      <td>1.03</td>\n",
       "      <td>3.17</td>\n",
       "      <td>1185.0</td>\n",
       "      <td>0</td>\n",
       "    </tr>\n",
       "    <tr>\n",
       "      <th>3</th>\n",
       "      <td>14.37</td>\n",
       "      <td>1.95</td>\n",
       "      <td>2.50</td>\n",
       "      <td>16.8</td>\n",
       "      <td>113.0</td>\n",
       "      <td>3.85</td>\n",
       "      <td>3.49</td>\n",
       "      <td>0.24</td>\n",
       "      <td>2.18</td>\n",
       "      <td>7.80</td>\n",
       "      <td>0.86</td>\n",
       "      <td>3.45</td>\n",
       "      <td>1480.0</td>\n",
       "      <td>0</td>\n",
       "    </tr>\n",
       "    <tr>\n",
       "      <th>4</th>\n",
       "      <td>13.24</td>\n",
       "      <td>2.59</td>\n",
       "      <td>2.87</td>\n",
       "      <td>21.0</td>\n",
       "      <td>118.0</td>\n",
       "      <td>2.80</td>\n",
       "      <td>2.69</td>\n",
       "      <td>0.39</td>\n",
       "      <td>1.82</td>\n",
       "      <td>4.32</td>\n",
       "      <td>1.04</td>\n",
       "      <td>2.93</td>\n",
       "      <td>735.0</td>\n",
       "      <td>0</td>\n",
       "    </tr>\n",
       "  </tbody>\n",
       "</table>\n",
       "</div>"
      ],
      "text/plain": [
       "   alcohol  malic_acid   ash  alcalinity_of_ash  magnesium  total_phenols  \\\n",
       "0    14.23        1.71  2.43               15.6      127.0           2.80   \n",
       "1    13.20        1.78  2.14               11.2      100.0           2.65   \n",
       "2    13.16        2.36  2.67               18.6      101.0           2.80   \n",
       "3    14.37        1.95  2.50               16.8      113.0           3.85   \n",
       "4    13.24        2.59  2.87               21.0      118.0           2.80   \n",
       "\n",
       "   flavanoids  nonflavanoid_phenols  proanthocyanins  color_intensity   hue  \\\n",
       "0        3.06                  0.28             2.29             5.64  1.04   \n",
       "1        2.76                  0.26             1.28             4.38  1.05   \n",
       "2        3.24                  0.30             2.81             5.68  1.03   \n",
       "3        3.49                  0.24             2.18             7.80  0.86   \n",
       "4        2.69                  0.39             1.82             4.32  1.04   \n",
       "\n",
       "   od280/od315_of_diluted_wines  proline  Target  \n",
       "0                          3.92   1065.0       0  \n",
       "1                          3.40   1050.0       0  \n",
       "2                          3.17   1185.0       0  \n",
       "3                          3.45   1480.0       0  \n",
       "4                          2.93    735.0       0  "
      ]
     },
     "execution_count": 5,
     "metadata": {},
     "output_type": "execute_result"
    }
   ],
   "source": [
    "wine = datasets.load_wine()\n",
    "wine_df = pd.DataFrame(wine.data, columns=wine.feature_names)\n",
    "wine_df['Target'] = wine.target\n",
    "wine_df.head()"
   ]
  },
  {
   "cell_type": "code",
   "execution_count": 104,
   "metadata": {},
   "outputs": [],
   "source": [
    "x_train, x_test, y_train, y_test = train_test_split(wine.data, wine.target, test_size=0.3, random_state=1)"
   ]
  },
  {
   "cell_type": "code",
   "execution_count": 107,
   "metadata": {},
   "outputs": [
    {
     "name": "stdout",
     "output_type": "stream",
     "text": [
      "RF_clf_result:0.976 +/- 0.0395 with 95% CI\n",
      "[0.96296296 1.         0.95833333 0.95833333 1.        ]\n",
      "RF_clf_test_score:0.981/0.981\n"
     ]
    },
    {
     "data": {
      "text/html": [
       "<div>\n",
       "<style scoped>\n",
       "    .dataframe tbody tr th:only-of-type {\n",
       "        vertical-align: middle;\n",
       "    }\n",
       "\n",
       "    .dataframe tbody tr th {\n",
       "        vertical-align: top;\n",
       "    }\n",
       "\n",
       "    .dataframe thead th {\n",
       "        text-align: right;\n",
       "    }\n",
       "</style>\n",
       "<table border=\"1\" class=\"dataframe\">\n",
       "  <thead>\n",
       "    <tr style=\"text-align: right;\">\n",
       "      <th></th>\n",
       "      <th>class_0</th>\n",
       "      <th>class_1</th>\n",
       "      <th>class_2</th>\n",
       "    </tr>\n",
       "  </thead>\n",
       "  <tbody>\n",
       "    <tr>\n",
       "      <th>class_0</th>\n",
       "      <td>23</td>\n",
       "      <td>0</td>\n",
       "      <td>0</td>\n",
       "    </tr>\n",
       "    <tr>\n",
       "      <th>class_1</th>\n",
       "      <td>1</td>\n",
       "      <td>18</td>\n",
       "      <td>0</td>\n",
       "    </tr>\n",
       "    <tr>\n",
       "      <th>class_2</th>\n",
       "      <td>0</td>\n",
       "      <td>0</td>\n",
       "      <td>12</td>\n",
       "    </tr>\n",
       "  </tbody>\n",
       "</table>\n",
       "</div>"
      ],
      "text/plain": [
       "         class_0  class_1  class_2\n",
       "class_0       23        0        0\n",
       "class_1        1       18        0\n",
       "class_2        0        0       12"
      ]
     },
     "execution_count": 107,
     "metadata": {},
     "output_type": "execute_result"
    }
   ],
   "source": [
    "#default to check\n",
    "RF_clf = RandomForestClassifier(n_estimators=300, random_state=1)\n",
    "RF_clf_result = cross_val_score(RF_clf, x_train, y_train, scoring='accuracy', cv=5)\n",
    "print('RF_clf_result:{:.3} +/- {:.3} with 95% CI\\n{}'.format(np.mean(RF_clf_result), np.std(RF_clf_result)*2, RF_clf_result))\n",
    "RF_clf.fit(x_train, y_train)\n",
    "y_pred_RF_clf = RF_clf.predict(x_test)\n",
    "print('RF_clf_test_score:{:.3}/{:.3}'.format(RF_clf.score(x_test, y_test), np.mean(y_pred_RF_clf == y_test)))\n",
    "pd.DataFrame(metrics.confusion_matrix(y_test, y_pred_RF_clf), columns=wine.target_names, index=wine.target_names)"
   ]
  },
  {
   "cell_type": "code",
   "execution_count": 108,
   "metadata": {},
   "outputs": [
    {
     "data": {
      "text/plain": [
       "GridSearchCV(cv=5, error_score='raise-deprecating',\n",
       "       estimator=RandomForestClassifier(bootstrap=True, class_weight=None, criterion='gini',\n",
       "            max_depth=None, max_features='auto', max_leaf_nodes=None,\n",
       "            min_impurity_decrease=0.0, min_impurity_split=None,\n",
       "            min_samples_leaf=1, min_samples_split=2,\n",
       "            min_weight_fraction_leaf=0.0, n_estimators='warn', n_jobs=None,\n",
       "            oob_score=False, random_state=None, verbose=0,\n",
       "            warm_start=False),\n",
       "       fit_params=None, iid=False, n_jobs=None,\n",
       "       param_grid={'n_estimators': [100, 200, 300, 400, 500, 600, 700, 800, 900, 1000], 'max_features': [2, 3, 4, 5, 6, 7, 8, 9, 'auto']},\n",
       "       pre_dispatch='2*n_jobs', refit=True, return_train_score=True,\n",
       "       scoring='accuracy', verbose=0)"
      ]
     },
     "execution_count": 108,
     "metadata": {},
     "output_type": "execute_result"
    }
   ],
   "source": [
    "#GridSearch\n",
    "param_grid = {'n_estimators':list(range(100, 1001, 100)),\n",
    "              'max_features':list(range(2, 10))+ ['auto']}\n",
    "RF_cv_clf = GridSearchCV(RandomForestClassifier(), param_grid, scoring='accuracy',\n",
    "                         iid=False, cv =5, return_train_score=True)\n",
    "RF_cv_clf.fit(x_train, y_train)\n"
   ]
  },
  {
   "cell_type": "code",
   "execution_count": 109,
   "metadata": {},
   "outputs": [
    {
     "data": {
      "text/plain": [
       "['mean_fit_time',\n",
       " 'mean_score_time',\n",
       " 'mean_test_score',\n",
       " 'mean_train_score',\n",
       " 'param_max_features',\n",
       " 'param_n_estimators',\n",
       " 'params',\n",
       " 'rank_test_score',\n",
       " 'split0_test_score',\n",
       " 'split0_train_score',\n",
       " 'split1_test_score',\n",
       " 'split1_train_score',\n",
       " 'split2_test_score',\n",
       " 'split2_train_score',\n",
       " 'split3_test_score',\n",
       " 'split3_train_score',\n",
       " 'split4_test_score',\n",
       " 'split4_train_score',\n",
       " 'std_fit_time',\n",
       " 'std_score_time',\n",
       " 'std_test_score',\n",
       " 'std_train_score']"
      ]
     },
     "execution_count": 109,
     "metadata": {},
     "output_type": "execute_result"
    }
   ],
   "source": [
    "RF_cv_result = pd.DataFrame(RF_cv_clf.cv_results_)\n",
    "sorted(RF_cv_clf.cv_results_.keys())"
   ]
  },
  {
   "cell_type": "code",
   "execution_count": 192,
   "metadata": {},
   "outputs": [
    {
     "data": {
      "text/html": [
       "<div>\n",
       "<style scoped>\n",
       "    .dataframe tbody tr th:only-of-type {\n",
       "        vertical-align: middle;\n",
       "    }\n",
       "\n",
       "    .dataframe tbody tr th {\n",
       "        vertical-align: top;\n",
       "    }\n",
       "\n",
       "    .dataframe thead th {\n",
       "        text-align: right;\n",
       "    }\n",
       "</style>\n",
       "<table border=\"1\" class=\"dataframe\">\n",
       "  <thead>\n",
       "    <tr style=\"text-align: right;\">\n",
       "      <th></th>\n",
       "      <th>mean_test_score</th>\n",
       "      <th>std_test_score</th>\n",
       "      <th>mean_train_score</th>\n",
       "      <th>std_train_score</th>\n",
       "      <th>param_max_features</th>\n",
       "      <th>param_n_estimators</th>\n",
       "    </tr>\n",
       "  </thead>\n",
       "  <tbody>\n",
       "    <tr>\n",
       "      <th>0</th>\n",
       "      <td>0.984259</td>\n",
       "      <td>0.019334</td>\n",
       "      <td>1.0</td>\n",
       "      <td>0.0</td>\n",
       "      <td>2</td>\n",
       "      <td>100</td>\n",
       "    </tr>\n",
       "    <tr>\n",
       "      <th>1</th>\n",
       "      <td>1.000000</td>\n",
       "      <td>0.000000</td>\n",
       "      <td>1.0</td>\n",
       "      <td>0.0</td>\n",
       "      <td>2</td>\n",
       "      <td>200</td>\n",
       "    </tr>\n",
       "    <tr>\n",
       "      <th>2</th>\n",
       "      <td>0.991667</td>\n",
       "      <td>0.016667</td>\n",
       "      <td>1.0</td>\n",
       "      <td>0.0</td>\n",
       "      <td>2</td>\n",
       "      <td>300</td>\n",
       "    </tr>\n",
       "    <tr>\n",
       "      <th>3</th>\n",
       "      <td>0.991667</td>\n",
       "      <td>0.016667</td>\n",
       "      <td>1.0</td>\n",
       "      <td>0.0</td>\n",
       "      <td>2</td>\n",
       "      <td>400</td>\n",
       "    </tr>\n",
       "    <tr>\n",
       "      <th>4</th>\n",
       "      <td>0.991667</td>\n",
       "      <td>0.016667</td>\n",
       "      <td>1.0</td>\n",
       "      <td>0.0</td>\n",
       "      <td>2</td>\n",
       "      <td>500</td>\n",
       "    </tr>\n",
       "  </tbody>\n",
       "</table>\n",
       "</div>"
      ],
      "text/plain": [
       "   mean_test_score  std_test_score  mean_train_score  std_train_score  \\\n",
       "0         0.984259        0.019334               1.0              0.0   \n",
       "1         1.000000        0.000000               1.0              0.0   \n",
       "2         0.991667        0.016667               1.0              0.0   \n",
       "3         0.991667        0.016667               1.0              0.0   \n",
       "4         0.991667        0.016667               1.0              0.0   \n",
       "\n",
       "  param_max_features param_n_estimators  \n",
       "0                  2                100  \n",
       "1                  2                200  \n",
       "2                  2                300  \n",
       "3                  2                400  \n",
       "4                  2                500  "
      ]
     },
     "execution_count": 192,
     "metadata": {},
     "output_type": "execute_result"
    }
   ],
   "source": [
    "interest_col = ['mean_test_score',\n",
    "                  'std_test_score',\n",
    "                  'mean_train_score',\n",
    "                  'std_train_score',\n",
    "                  'param_max_features',\n",
    "                  'param_n_estimators']\n",
    "RF_cv_result[interest_col].head()"
   ]
  },
  {
   "cell_type": "code",
   "execution_count": 111,
   "metadata": {},
   "outputs": [
    {
     "data": {
      "text/plain": [
       "(1.0,\n",
       " 1,\n",
       " {'max_features': 2, 'n_estimators': 200},\n",
       " RandomForestClassifier(bootstrap=True, class_weight=None, criterion='gini',\n",
       "             max_depth=None, max_features=2, max_leaf_nodes=None,\n",
       "             min_impurity_decrease=0.0, min_impurity_split=None,\n",
       "             min_samples_leaf=1, min_samples_split=2,\n",
       "             min_weight_fraction_leaf=0.0, n_estimators=200, n_jobs=None,\n",
       "             oob_score=False, random_state=None, verbose=0,\n",
       "             warm_start=False))"
      ]
     },
     "execution_count": 111,
     "metadata": {},
     "output_type": "execute_result"
    }
   ],
   "source": [
    "RF_cv_clf.best_score_, RF_cv_clf.best_index_, RF_cv_clf.best_params_, RF_cv_clf.best_estimator_"
   ]
  },
  {
   "cell_type": "code",
   "execution_count": 209,
   "metadata": {},
   "outputs": [
    {
     "data": {
      "image/png": "[encoded data removed]",
      "text/plain": [
       "<Figure size 720x720 with 2 Axes>"
      ]
     },
     "metadata": {
      "needs_background": "light"
     },
     "output_type": "display_data"
    }
   ],
   "source": [
    "RF_cv_result.loc[RF_cv_result['param_max_features'] == 2, interest_col ]\n",
    "plt.figure(figsize=(10, 10))\n",
    "idx_list= []\n",
    "idx_1_list = []\n",
    "plt.subplot(211)\n",
    "for idx in (list(range(2, 10)) + ['auto']):\n",
    "    plt.plot(RF_cv_result.loc[RF_cv_result['param_max_features'] == idx, ['param_n_estimators']],\n",
    "                RF_cv_result.loc[RF_cv_result['param_max_features'] == idx, ['mean_test_score']], '--o')\n",
    "    plt.xlabel('param_n_estimators')\n",
    "    plt.ylabel('mean_test_score')\n",
    "    plt.title('param_max_features')\n",
    "    idx_list.append(idx)\n",
    "    plt.legend(idx_list)\n",
    "plt.subplot(212)\n",
    "for idx_1 in range(100, 1001, 100):\n",
    "    plt.plot(RF_cv_result.loc[((RF_cv_result['param_n_estimators'] == idx_1).values & (RF_cv_result['param_max_features'] != 'auto').values),\n",
    "                              ['param_max_features']],\n",
    "             RF_cv_result.loc[((RF_cv_result['param_n_estimators'] == idx_1).values & (RF_cv_result['param_max_features'] != 'auto').values), \n",
    "                              ['mean_test_score']], '--o')\n",
    "    plt.xlabel('param_max_features')\n",
    "    plt.ylabel('mean_test_score')\n",
    "    plt.title('n_estimators')\n",
    "    idx_1_list.append(idx_1)\n",
    "    plt.legend(idx_1_list)\n",
    "plt.show()"
   ]
  },
  {
   "cell_type": "code",
   "execution_count": 129,
   "metadata": {},
   "outputs": [
    {
     "name": "stdout",
     "output_type": "stream",
     "text": [
      "RF_test_accuracy: 0.9814814814814815\n",
      "RF_test_precesion: 0.9861111111111112\n",
      "RF_test_recall: 0.9824561403508771\n",
      "RF_test_F1_score: 0.9814814814814815\n"
     ]
    },
    {
     "data": {
      "text/html": [
       "<div>\n",
       "<style scoped>\n",
       "    .dataframe tbody tr th:only-of-type {\n",
       "        vertical-align: middle;\n",
       "    }\n",
       "\n",
       "    .dataframe tbody tr th {\n",
       "        vertical-align: top;\n",
       "    }\n",
       "\n",
       "    .dataframe thead th {\n",
       "        text-align: right;\n",
       "    }\n",
       "</style>\n",
       "<table border=\"1\" class=\"dataframe\">\n",
       "  <thead>\n",
       "    <tr style=\"text-align: right;\">\n",
       "      <th></th>\n",
       "      <th>0</th>\n",
       "      <th>1</th>\n",
       "      <th>2</th>\n",
       "    </tr>\n",
       "  </thead>\n",
       "  <tbody>\n",
       "    <tr>\n",
       "      <th>0</th>\n",
       "      <td>23</td>\n",
       "      <td>0</td>\n",
       "      <td>0</td>\n",
       "    </tr>\n",
       "    <tr>\n",
       "      <th>1</th>\n",
       "      <td>1</td>\n",
       "      <td>18</td>\n",
       "      <td>0</td>\n",
       "    </tr>\n",
       "    <tr>\n",
       "      <th>2</th>\n",
       "      <td>0</td>\n",
       "      <td>0</td>\n",
       "      <td>12</td>\n",
       "    </tr>\n",
       "  </tbody>\n",
       "</table>\n",
       "</div>"
      ],
      "text/plain": [
       "    0   1   2\n",
       "0  23   0   0\n",
       "1   1  18   0\n",
       "2   0   0  12"
      ]
     },
     "execution_count": 129,
     "metadata": {},
     "output_type": "execute_result"
    }
   ],
   "source": [
    "RF_test_confusion = pd.DataFrame(metrics.confusion_matrix(y_test, RF_cv_clf.best_estimator_.predict(x_test)))\n",
    "print('RF_test_accuracy:', metrics.accuracy_score(y_test, RF_cv_clf.best_estimator_.predict(x_test)))\n",
    "print('RF_test_precesion:', metrics.precision_score(y_test, RF_cv_clf.best_estimator_.predict(x_test), average='macro'))\n",
    "print('RF_test_recall:', metrics.recall_score(y_test, RF_cv_clf.best_estimator_.predict(x_test), average='macro'))\n",
    "print('RF_test_F1_score:', metrics.f1_score(y_test, RF_cv_clf.best_estimator_.predict(x_test), average='micro'))\n",
    "RF_test_confusion"
   ]
  },
  {
   "cell_type": "markdown",
   "metadata": {},
   "source": [
    "# Wine LR"
   ]
  },
  {
   "cell_type": "code",
   "execution_count": 254,
   "metadata": {},
   "outputs": [
    {
     "name": "stdout",
     "output_type": "stream",
     "text": [
      "0.9842592592592592 [0.96296296 1.         0.95833333 1.         1.        ]\n",
      "test_accuracy: 1.0\n"
     ]
    }
   ],
   "source": [
    "#logistic\n",
    "ss_scaler = StandardScaler()\n",
    "ss_scaler.fit(x_train)\n",
    "x_train_ss = ss_scaler.transform(x_train)\n",
    "x_test_ss = ss_scaler.transform(x_test)\n",
    "LR_reg = LogisticRegression()\n",
    "LR_reg_cv_result = cross_val_score(LR_reg, x_train_ss, y_train, cv=5)\n",
    "print(np.mean(LR_reg_cv_result), LR_reg_cv_result)\n",
    "LR_reg.fit(x_train_ss, y_train)\n",
    "print('test_accuracy:', np.mean(LR_reg.predict(x_test_ss) == y_test))"
   ]
  },
  {
   "cell_type": "code",
   "execution_count": 261,
   "metadata": {},
   "outputs": [
    {
     "name": "stdout",
     "output_type": "stream",
     "text": [
      "test_accuracy: 1.0\n",
      "[10.   1.   0.1]\n",
      "[[ 2.0608169   1.14141727  1.61965607 -2.10839652  0.23961349  0.19627168\n",
      "   1.51406536 -0.40628881 -0.54779374 -0.27128525  0.27727541  1.843031\n",
      "   3.05179295]\n",
      " [-1.29191499 -0.69798857 -1.13179039  0.62946802 -0.00749626  0.13060576\n",
      "   0.53457466  0.29512369  0.22305682 -1.822544    0.7840905  -0.0149989\n",
      "  -1.83146012]\n",
      " [ 0.18098733  0.33097281  0.1947941   0.23106543  0.07636579 -0.34512287\n",
      "  -0.6023421   0.15303033 -0.28946711  0.58685069 -0.57101003 -0.54421432\n",
      "  -0.01250947]]\n"
     ]
    },
    {
     "data": {
      "text/html": [
       "<div>\n",
       "<style scoped>\n",
       "    .dataframe tbody tr th:only-of-type {\n",
       "        vertical-align: middle;\n",
       "    }\n",
       "\n",
       "    .dataframe tbody tr th {\n",
       "        vertical-align: top;\n",
       "    }\n",
       "\n",
       "    .dataframe thead th {\n",
       "        text-align: right;\n",
       "    }\n",
       "</style>\n",
       "<table border=\"1\" class=\"dataframe\">\n",
       "  <thead>\n",
       "    <tr style=\"text-align: right;\">\n",
       "      <th></th>\n",
       "      <th>class_0</th>\n",
       "      <th>class_1</th>\n",
       "      <th>class_2</th>\n",
       "    </tr>\n",
       "  </thead>\n",
       "  <tbody>\n",
       "    <tr>\n",
       "      <th>class_0</th>\n",
       "      <td>23</td>\n",
       "      <td>0</td>\n",
       "      <td>0</td>\n",
       "    </tr>\n",
       "    <tr>\n",
       "      <th>class_1</th>\n",
       "      <td>0</td>\n",
       "      <td>19</td>\n",
       "      <td>0</td>\n",
       "    </tr>\n",
       "    <tr>\n",
       "      <th>class_2</th>\n",
       "      <td>0</td>\n",
       "      <td>0</td>\n",
       "      <td>12</td>\n",
       "    </tr>\n",
       "  </tbody>\n",
       "</table>\n",
       "</div>"
      ],
      "text/plain": [
       "         class_0  class_1  class_2\n",
       "class_0       23        0        0\n",
       "class_1        0       19        0\n",
       "class_2        0        0       12"
      ]
     },
     "execution_count": 261,
     "metadata": {},
     "output_type": "execute_result"
    }
   ],
   "source": [
    "#LogisticRegressionCV\n",
    "LR_cv_reg = LogisticRegressionCV(Cs=[10**i for i in range(-10, 10)], cv=5)\n",
    "LR_cv_reg.fit(x_train_ss, y_train)\n",
    "print('test_accuracy:', np.mean(LR_cv_reg.predict(x_test_ss) == y_test))\n",
    "print(LR_cv_reg.C_)\n",
    "print(LR_cv_reg.coef_)\n",
    "pd.DataFrame(metrics.confusion_matrix(y_test, LR_cv_reg.predict(x_test_ss)), columns=wine.target_names, index=wine.target_names)"
   ]
  },
  {
   "cell_type": "markdown",
   "metadata": {},
   "source": [
    "# Boston"
   ]
  },
  {
   "cell_type": "code",
   "execution_count": 180,
   "metadata": {},
   "outputs": [
    {
     "data": {
      "text/html": [
       "<div>\n",
       "<style scoped>\n",
       "    .dataframe tbody tr th:only-of-type {\n",
       "        vertical-align: middle;\n",
       "    }\n",
       "\n",
       "    .dataframe tbody tr th {\n",
       "        vertical-align: top;\n",
       "    }\n",
       "\n",
       "    .dataframe thead th {\n",
       "        text-align: right;\n",
       "    }\n",
       "</style>\n",
       "<table border=\"1\" class=\"dataframe\">\n",
       "  <thead>\n",
       "    <tr style=\"text-align: right;\">\n",
       "      <th></th>\n",
       "      <th>CRIM</th>\n",
       "      <th>ZN</th>\n",
       "      <th>INDUS</th>\n",
       "      <th>CHAS</th>\n",
       "      <th>NOX</th>\n",
       "      <th>RM</th>\n",
       "      <th>AGE</th>\n",
       "      <th>DIS</th>\n",
       "      <th>RAD</th>\n",
       "      <th>TAX</th>\n",
       "      <th>PTRATIO</th>\n",
       "      <th>B</th>\n",
       "      <th>LSTAT</th>\n",
       "      <th>Target</th>\n",
       "    </tr>\n",
       "  </thead>\n",
       "  <tbody>\n",
       "    <tr>\n",
       "      <th>0</th>\n",
       "      <td>0.00632</td>\n",
       "      <td>18.0</td>\n",
       "      <td>2.31</td>\n",
       "      <td>0.0</td>\n",
       "      <td>0.538</td>\n",
       "      <td>6.575</td>\n",
       "      <td>65.2</td>\n",
       "      <td>4.0900</td>\n",
       "      <td>1.0</td>\n",
       "      <td>296.0</td>\n",
       "      <td>15.3</td>\n",
       "      <td>396.90</td>\n",
       "      <td>4.98</td>\n",
       "      <td>24.0</td>\n",
       "    </tr>\n",
       "    <tr>\n",
       "      <th>1</th>\n",
       "      <td>0.02731</td>\n",
       "      <td>0.0</td>\n",
       "      <td>7.07</td>\n",
       "      <td>0.0</td>\n",
       "      <td>0.469</td>\n",
       "      <td>6.421</td>\n",
       "      <td>78.9</td>\n",
       "      <td>4.9671</td>\n",
       "      <td>2.0</td>\n",
       "      <td>242.0</td>\n",
       "      <td>17.8</td>\n",
       "      <td>396.90</td>\n",
       "      <td>9.14</td>\n",
       "      <td>21.6</td>\n",
       "    </tr>\n",
       "    <tr>\n",
       "      <th>2</th>\n",
       "      <td>0.02729</td>\n",
       "      <td>0.0</td>\n",
       "      <td>7.07</td>\n",
       "      <td>0.0</td>\n",
       "      <td>0.469</td>\n",
       "      <td>7.185</td>\n",
       "      <td>61.1</td>\n",
       "      <td>4.9671</td>\n",
       "      <td>2.0</td>\n",
       "      <td>242.0</td>\n",
       "      <td>17.8</td>\n",
       "      <td>392.83</td>\n",
       "      <td>4.03</td>\n",
       "      <td>34.7</td>\n",
       "    </tr>\n",
       "    <tr>\n",
       "      <th>3</th>\n",
       "      <td>0.03237</td>\n",
       "      <td>0.0</td>\n",
       "      <td>2.18</td>\n",
       "      <td>0.0</td>\n",
       "      <td>0.458</td>\n",
       "      <td>6.998</td>\n",
       "      <td>45.8</td>\n",
       "      <td>6.0622</td>\n",
       "      <td>3.0</td>\n",
       "      <td>222.0</td>\n",
       "      <td>18.7</td>\n",
       "      <td>394.63</td>\n",
       "      <td>2.94</td>\n",
       "      <td>33.4</td>\n",
       "    </tr>\n",
       "    <tr>\n",
       "      <th>4</th>\n",
       "      <td>0.06905</td>\n",
       "      <td>0.0</td>\n",
       "      <td>2.18</td>\n",
       "      <td>0.0</td>\n",
       "      <td>0.458</td>\n",
       "      <td>7.147</td>\n",
       "      <td>54.2</td>\n",
       "      <td>6.0622</td>\n",
       "      <td>3.0</td>\n",
       "      <td>222.0</td>\n",
       "      <td>18.7</td>\n",
       "      <td>396.90</td>\n",
       "      <td>5.33</td>\n",
       "      <td>36.2</td>\n",
       "    </tr>\n",
       "  </tbody>\n",
       "</table>\n",
       "</div>"
      ],
      "text/plain": [
       "      CRIM    ZN  INDUS  CHAS    NOX     RM   AGE     DIS  RAD    TAX  \\\n",
       "0  0.00632  18.0   2.31   0.0  0.538  6.575  65.2  4.0900  1.0  296.0   \n",
       "1  0.02731   0.0   7.07   0.0  0.469  6.421  78.9  4.9671  2.0  242.0   \n",
       "2  0.02729   0.0   7.07   0.0  0.469  7.185  61.1  4.9671  2.0  242.0   \n",
       "3  0.03237   0.0   2.18   0.0  0.458  6.998  45.8  6.0622  3.0  222.0   \n",
       "4  0.06905   0.0   2.18   0.0  0.458  7.147  54.2  6.0622  3.0  222.0   \n",
       "\n",
       "   PTRATIO       B  LSTAT  Target  \n",
       "0     15.3  396.90   4.98    24.0  \n",
       "1     17.8  396.90   9.14    21.6  \n",
       "2     17.8  392.83   4.03    34.7  \n",
       "3     18.7  394.63   2.94    33.4  \n",
       "4     18.7  396.90   5.33    36.2  "
      ]
     },
     "execution_count": 180,
     "metadata": {},
     "output_type": "execute_result"
    }
   ],
   "source": [
    "boston = datasets.load_boston()\n",
    "boston_df = pd.DataFrame(boston.data, columns=boston.feature_names)\n",
    "boston_df['Target'] = boston.target\n",
    "boston_df.head()"
   ]
  },
  {
   "cell_type": "code",
   "execution_count": 181,
   "metadata": {},
   "outputs": [],
   "source": [
    "X_train, X_test, Y_train, Y_test = train_test_split(boston.data, boston.target, test_size=0.3, random_state=0)"
   ]
  },
  {
   "cell_type": "code",
   "execution_count": 190,
   "metadata": {},
   "outputs": [
    {
     "name": "stdout",
     "output_type": "stream",
     "text": [
      "RF_ref_cv_ressult:0.84 +/- 0.124 with 95% CI\n",
      "[0.92242497 0.7375949  0.83358006 0.82660619 0.88169103]\n",
      "RF_reg_test_result:0.8271824313485877\n"
     ]
    }
   ],
   "source": [
    "#default check\n",
    "RF_reg = RandomForestRegressor(n_estimators=300,)\n",
    "RF_reg_cv_result = cross_val_score(RF_reg, X_train, Y_train, cv=5)\n",
    "print('RF_ref_cv_ressult:{:.3} +/- {:.3} with 95% CI\\n{}'.format(np.mean(RF_reg_cv_result), \n",
    "                                                                 np.std(RF_reg_cv_result)*2, RF_reg_cv_result))\n",
    "RF_reg.fit(X_train, Y_train)\n",
    "y_pred_RF_reg = RF_reg.predict(X_test)\n",
    "print('RF_reg_test_result:{}'.format(metrics.r2_score(Y_test, y_pred_RF_reg)))"
   ]
  },
  {
   "cell_type": "code",
   "execution_count": 235,
   "metadata": {},
   "outputs": [
    {
     "data": {
      "text/plain": [
       "array([0.92242497, 0.7375949 , 0.83358006, 0.82660619, 0.88169103])"
      ]
     },
     "execution_count": 235,
     "metadata": {},
     "output_type": "execute_result"
    }
   ],
   "source": [
    "RF_reg_cv_result"
   ]
  },
  {
   "cell_type": "code",
   "execution_count": 236,
   "metadata": {},
   "outputs": [
    {
     "data": {
      "text/plain": [
       "array([ 1.32267147, -1.65700859, -0.10961389, -0.22204097,  0.66599198])"
      ]
     },
     "execution_count": 236,
     "metadata": {},
     "output_type": "execute_result"
    }
   ],
   "source": [
    "(RF_reg_cv_result - np.mean(RF_reg_cv_result)) /np.std(RF_reg_cv_result)"
   ]
  },
  {
   "cell_type": "code",
   "execution_count": 221,
   "metadata": {},
   "outputs": [
    {
     "name": "stdout",
     "output_type": "stream",
     "text": [
      "<bound method BaseEstimator.get_params of RandomForestRegressor(bootstrap=True, criterion='mse', max_depth=None,\n",
      "           max_features='auto', max_leaf_nodes=None,\n",
      "           min_impurity_decrease=0.0, min_impurity_split=None,\n",
      "           min_samples_leaf=1, min_samples_split=2,\n",
      "           min_weight_fraction_leaf=0.0, n_estimators=300, n_jobs=None,\n",
      "           oob_score=False, random_state=None, verbose=0, warm_start=False)>\n"
     ]
    }
   ],
   "source": [
    "print(RF_reg.get_params)"
   ]
  },
  {
   "cell_type": "code",
   "execution_count": 195,
   "metadata": {},
   "outputs": [
    {
     "data": {
      "text/plain": [
       "0.9835895685806751"
      ]
     },
     "execution_count": 195,
     "metadata": {},
     "output_type": "execute_result"
    }
   ],
   "source": [
    "RF_reg.score(X_train, Y_train)"
   ]
  },
  {
   "cell_type": "code",
   "execution_count": 196,
   "metadata": {},
   "outputs": [
    {
     "data": {
      "text/plain": [
       "GridSearchCV(cv=5, error_score='raise-deprecating',\n",
       "       estimator=RandomForestRegressor(bootstrap=True, criterion='mse', max_depth=None,\n",
       "           max_features='auto', max_leaf_nodes=None,\n",
       "           min_impurity_decrease=0.0, min_impurity_split=None,\n",
       "           min_samples_leaf=1, min_samples_split=2,\n",
       "           min_weight_fraction_leaf=0.0, n_estimators='warn', n_jobs=None,\n",
       "           oob_score=False, random_state=None, verbose=0, warm_start=False),\n",
       "       fit_params=None, iid=False, n_jobs=None,\n",
       "       param_grid={'n_estimators': [100, 200, 300, 400, 500, 600, 700, 800, 900, 1000], 'max_features': [1, 2, 3, 4, 5, 6, 7, 8, 9, 10, 11, 12, 'auto']},\n",
       "       pre_dispatch='2*n_jobs', refit=True, return_train_score=True,\n",
       "       scoring='r2', verbose=0)"
      ]
     },
     "execution_count": 196,
     "metadata": {},
     "output_type": "execute_result"
    }
   ],
   "source": [
    "#GridSeachCV\n",
    "param_grid = {'n_estimators':list(range(100, 1001, 100)), 'max_features': list(range(1, 13))+['auto']}\n",
    "RF_cv_reg = GridSearchCV(RandomForestRegressor(), param_grid, scoring='r2', cv=5, return_train_score=True, iid=False)\n",
    "RF_cv_reg.fit(X_train, Y_train)\n",
    "#RF_cv_reg.cv"
   ]
  },
  {
   "cell_type": "code",
   "execution_count": 202,
   "metadata": {},
   "outputs": [
    {
     "data": {
      "text/plain": [
       "(45, 0.8780102658182611, {'max_features': 5, 'n_estimators': 600})"
      ]
     },
     "execution_count": 202,
     "metadata": {},
     "output_type": "execute_result"
    }
   ],
   "source": [
    "RF_cv_reg.best_index_, RF_cv_reg.best_score_, RF_cv_reg.best_params_"
   ]
  },
  {
   "cell_type": "code",
   "execution_count": 215,
   "metadata": {},
   "outputs": [
    {
     "data": {
      "text/plain": [
       "mean_fit_time                                          1.13595\n",
       "mean_score_time                                      0.0511714\n",
       "mean_test_score                                        0.87801\n",
       "mean_train_score                                      0.984841\n",
       "param_max_features                                           5\n",
       "param_n_estimators                                         600\n",
       "params                {'max_features': 5, 'n_estimators': 600}\n",
       "rank_test_score                                              1\n",
       "split0_test_score                                     0.925208\n",
       "split0_train_score                                    0.985166\n",
       "split1_test_score                                     0.827778\n",
       "split1_train_score                                    0.986656\n",
       "split2_test_score                                     0.887131\n",
       "split2_train_score                                    0.984803\n",
       "split3_test_score                                     0.857472\n",
       "split3_train_score                                    0.982961\n",
       "split4_test_score                                     0.892462\n",
       "split4_train_score                                    0.984619\n",
       "std_fit_time                                         0.0151394\n",
       "std_score_time                                      0.00305748\n",
       "std_test_score                                       0.0330599\n",
       "std_train_score                                     0.00118172\n",
       "Name: 45, dtype: object"
      ]
     },
     "execution_count": 215,
     "metadata": {},
     "output_type": "execute_result"
    }
   ],
   "source": [
    "RF_cv_result_reg = pd.DataFrame(RF_cv_reg.cv_results_)\n",
    "RF_cv_result_reg.iloc[45]"
   ]
  },
  {
   "cell_type": "code",
   "execution_count": 199,
   "metadata": {
    "collapsed": true
   },
   "outputs": [
    {
     "data": {
      "text/plain": [
       "['mean_fit_time',\n",
       " 'mean_score_time',\n",
       " 'mean_test_score',\n",
       " 'mean_train_score',\n",
       " 'param_max_features',\n",
       " 'param_n_estimators',\n",
       " 'params',\n",
       " 'rank_test_score',\n",
       " 'split0_test_score',\n",
       " 'split0_train_score',\n",
       " 'split1_test_score',\n",
       " 'split1_train_score',\n",
       " 'split2_test_score',\n",
       " 'split2_train_score',\n",
       " 'split3_test_score',\n",
       " 'split3_train_score',\n",
       " 'split4_test_score',\n",
       " 'split4_train_score',\n",
       " 'std_fit_time',\n",
       " 'std_score_time',\n",
       " 'std_test_score',\n",
       " 'std_train_score']"
      ]
     },
     "execution_count": 199,
     "metadata": {},
     "output_type": "execute_result"
    }
   ],
   "source": [
    "sorted(RF_cv_reg.cv_results_.keys())"
   ]
  },
  {
   "cell_type": "code",
   "execution_count": 201,
   "metadata": {},
   "outputs": [],
   "source": [
    "key_col = ['mean_test_score', 'std_test_score',\n",
    "           'mean_train_score', 'std_train_score', \n",
    "           'param_max_features', 'param_n_estimators']\n",
    "boston_cv_result = RF_cv_result_reg[key_col]"
   ]
  },
  {
   "cell_type": "code",
   "execution_count": 210,
   "metadata": {},
   "outputs": [
    {
     "data": {
      "image/png": "[encoded data removed]",
      "text/plain": [
       "<Figure size 720x720 with 1 Axes>"
      ]
     },
     "metadata": {
      "needs_background": "light"
     },
     "output_type": "display_data"
    }
   ],
   "source": [
    "# visulization \n",
    "plt.figure(figsize=(10, 10))\n",
    "idx_list = []\n",
    "for idx in (list(range(1, 13)) + ['auto']):\n",
    "    plt.plot(boston_cv_result.loc[boston_cv_result['param_max_features'] == idx, ['param_n_estimators']],\n",
    "             boston_cv_result.loc[boston_cv_result['param_max_features'] == idx, ['mean_test_score']], '--o')\n",
    "    plt.xlabel('param_n_estimators')\n",
    "    plt.ylabel('mean_test_score')\n",
    "    plt.title('tree_max_feature')\n",
    "    idx_list.append(idx)\n",
    "    plt.legend(idx_list)\n",
    "plt.show()"
   ]
  },
  {
   "cell_type": "code",
   "execution_count": 217,
   "metadata": {},
   "outputs": [
    {
     "name": "stdout",
     "output_type": "stream",
     "text": [
      "{'max_features': 5, 'n_estimators': 600}\n",
      "RF_reg_test_result:0.7727714908182111\n"
     ]
    }
   ],
   "source": [
    "y_pred_RF_cv_reg =  RF_cv_reg.best_estimator_.predict(X_test)\n",
    "print(RF_cv_reg.best_params_)\n",
    "print('RF_reg_test_result:{}'.format(metrics.r2_score(Y_test, y_pred_RF_cv_reg)))"
   ]
  },
  {
   "cell_type": "code",
   "execution_count": 222,
   "metadata": {},
   "outputs": [
    {
     "data": {
      "text/plain": [
       "<bound method BaseEstimator.get_params of GridSearchCV(cv=5, error_score='raise-deprecating',\n",
       "       estimator=RandomForestRegressor(bootstrap=True, criterion='mse', max_depth=None,\n",
       "           max_features='auto', max_leaf_nodes=None,\n",
       "           min_impurity_decrease=0.0, min_impurity_split=None,\n",
       "           min_samples_leaf=1, min_samples_split=2,\n",
       "           min_weight_fraction_leaf=0.0, n_estimators='warn', n_jobs=None,\n",
       "           oob_score=False, random_state=None, verbose=0, warm_start=False),\n",
       "       fit_params=None, iid=False, n_jobs=None,\n",
       "       param_grid={'n_estimators': [100, 200, 300, 400, 500, 600, 700, 800, 900, 1000], 'max_features': [1, 2, 3, 4, 5, 6, 7, 8, 9, 10, 11, 12, 'auto']},\n",
       "       pre_dispatch='2*n_jobs', refit=True, return_train_score=True,\n",
       "       scoring='r2', verbose=0)>"
      ]
     },
     "execution_count": 222,
     "metadata": {},
     "output_type": "execute_result"
    }
   ],
   "source": [
    "RF_cv_reg.get_params"
   ]
  },
  {
   "cell_type": "code",
   "execution_count": 225,
   "metadata": {},
   "outputs": [
    {
     "name": "stdout",
     "output_type": "stream",
     "text": [
      "0.8304041724489224\n"
     ]
    }
   ],
   "source": [
    "check_reg = RandomForestRegressor(n_estimators=100, max_features='auto')\n",
    "check_reg.fit(X_train, Y_train)\n",
    "print(check_reg.score(X_test, Y_test))"
   ]
  },
  {
   "cell_type": "markdown",
   "metadata": {},
   "source": [
    "# Boston Ridge"
   ]
  },
  {
   "cell_type": "code",
   "execution_count": 269,
   "metadata": {},
   "outputs": [
    {
     "data": {
      "text/plain": [
       "((354, 13), (354, 13), (354,))"
      ]
     },
     "execution_count": 269,
     "metadata": {},
     "output_type": "execute_result"
    }
   ],
   "source": [
    "X_train.shape, X_train_ss.shape, Y_train.shape"
   ]
  },
  {
   "cell_type": "code",
   "execution_count": 282,
   "metadata": {},
   "outputs": [
    {
     "name": "stdout",
     "output_type": "stream",
     "text": [
      "0.7192209481216887 +/- 0.14742501514453518 95% CI:\n",
      "[0.7271232  0.58203168 0.77518087 0.72078191 0.79098708]\n",
      "ridge_test_score: 0.6727737684528233\n"
     ]
    }
   ],
   "source": [
    "ss_scaler.fit(X_train)\n",
    "X_train_ss = ss_scaler.transform(X_train)\n",
    "X_test_ss = ss_scaler.transform(X_test)\n",
    "ridge_reg = Ridge()\n",
    "ridge_result = cross_val_score(ridge_reg, X_train_ss, Y_train.reshape(-1, 1), scoring='r2', cv=5)\n",
    "print('{} +/- {} 95% CI:\\n{}'.format(np.mean(ridge_result), np.std(ridge_result)*2, ridge_result))\n",
    "ridge_reg.fit(X_train_ss, Y_train)\n",
    "print('ridge_test_score:', metrics.r2_score(Y_test, ridge_reg.predict(X_test_ss)))\n"
   ]
  },
  {
   "cell_type": "code",
   "execution_count": 279,
   "metadata": {},
   "outputs": [
    {
     "name": "stdout",
     "output_type": "stream",
     "text": [
      "Ridge_coef: [-0.93339802  0.90177932 -0.1300991   0.65314123 -1.55467533  2.78015332\n",
      " -0.31814058 -2.75181154  1.47084556 -1.32721467 -2.18367326  0.58660906\n",
      " -3.29741238]\n",
      "Ridge_alpha: 10.0\n",
      "test_r2_score: 0.6674648670481825\n"
     ]
    }
   ],
   "source": [
    "ridge_cv_reg = RidgeCV(alphas=[10**i for i in range(-10, 10)], cv=5)\n",
    "ridge_cv_reg.fit(X_train_ss, Y_train)\n",
    "print('Ridge_coef:', ridge_cv_reg.coef_)\n",
    "print('Ridge_alpha:', ridge_cv_reg.alpha_)\n",
    "print('test_r2_score:', metrics.r2_score(Y_test, ridge_cv_reg.predict(X_test_ss))) "
   ]
  },
  {
   "cell_type": "markdown",
   "metadata": {},
   "source": [
    "# Boston Lasso"
   ]
  },
  {
   "cell_type": "code",
   "execution_count": 283,
   "metadata": {},
   "outputs": [
    {
     "name": "stdout",
     "output_type": "stream",
     "text": [
      "0.6774284745995518 +/- 0.11179357805537779 95% CI:\n",
      "[0.70827443 0.59111518 0.7261169  0.63168923 0.72994663]\n",
      "lasso_test_score: 0.5999442961470398\n"
     ]
    }
   ],
   "source": [
    "#Lasso\n",
    "lasso_reg = Lasso()\n",
    "lasso_result = cross_val_score(lasso_reg, X_train_ss, Y_train, cv=5, scoring='r2')\n",
    "print('{} +/- {} 95% CI:\\n{}'.format(np.mean(lasso_result), np.std(lasso_result)*2, lasso_result))\n",
    "lasso_reg.fit(X_train_ss, Y_train)\n",
    "print('lasso_test_score:', metrics.r2_score(Y_test, lasso_reg.predict(X_test_ss)))"
   ]
  },
  {
   "cell_type": "code",
   "execution_count": 284,
   "metadata": {},
   "outputs": [
    {
     "name": "stdout",
     "output_type": "stream",
     "text": [
      "Lasso_coef: [-0.98378624  1.01194239  0.          0.62075358 -1.81305115  2.7143873\n",
      " -0.26357128 -3.03814963  1.92347918 -1.7183718  -2.24390248  0.57036891\n",
      " -3.441437  ]\n",
      "Lasso_alpha: 0.01\n",
      "test_r2_score: 0.6724327650469639\n"
     ]
    }
   ],
   "source": [
    "#Lasso CV\n",
    "lasso_cv_reg = LassoCV(alphas=[10**i for i in range(-10, 10)], cv=5)\n",
    "lasso_cv_reg.fit(X_train_ss, Y_train)\n",
    "print('Lasso_coef:', lasso_cv_reg.coef_)\n",
    "print('Lasso_alpha:', lasso_cv_reg.alpha_)\n",
    "print('test_r2_score:', metrics.r2_score(Y_test, lasso_cv_reg.predict(X_test_ss))) "
   ]
  }
 ],
 "metadata": {
  "kernelspec": {
   "display_name": "Python [conda env:my_env]",
   "language": "python",
   "name": "conda-env-my_env-py"
  },
  "language_info": {
   "codemirror_mode": {
    "name": "ipython",
    "version": 3
   },
   "file_extension": ".py",
   "mimetype": "text/x-python",
   "name": "python",
   "nbconvert_exporter": "python",
   "pygments_lexer": "ipython3",
   "version": "3.6.6"
  }
 },
 "nbformat": 4,
 "nbformat_minor": 2
}
