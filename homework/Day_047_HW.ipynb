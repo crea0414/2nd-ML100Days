{
 "cells": [
  {
   "cell_type": "markdown",
   "metadata": {},
   "source": [
    "## [作業重點]\n",
    "了解如何使用 Sklearn 中的 hyper-parameter search 找出最佳的超參數"
   ]
  },
  {
   "cell_type": "markdown",
   "metadata": {},
   "source": [
    "### 作業\n",
    "請使用不同的資料集，並使用 hyper-parameter search 的方式，看能不能找出最佳的超參數組合"
   ]
  },
  {
   "cell_type": "code",
   "execution_count": 17,
   "metadata": {},
   "outputs": [],
   "source": [
    "import numpy as np\n",
    "import pandas as pd\n",
    "import matplotlib.pyplot as plt\n",
    "%matplotlib inline\n",
    "from sklearn import datasets, tree, metrics\n",
    "from sklearn.linear_model import LogisticRegression,LinearRegression\n",
    "from sklearn.ensemble import GradientBoostingRegressor, RandomForestRegressor\n",
    "from sklearn.preprocessing import StandardScaler, MinMaxScaler\n",
    "from sklearn.model_selection import train_test_split, GridSearchCV, RandomizedSearchCV, cross_val_score\n",
    "import warnings\n",
    "warnings.filterwarnings('ignore')"
   ]
  },
  {
   "cell_type": "code",
   "execution_count": 15,
   "metadata": {},
   "outputs": [],
   "source": [
    "boston = datasets.load_boston()\n",
    "ss_scaler = StandardScaler()\n",
    "boston_data_ss = ss_scaler.fit_transform(boston.data) \n",
    "x_train_ss, x_test_ss, y_train_ss, y_test_ss = train_test_split(boston_data_ss, boston.target, random_state=4, test_size=0.25)"
   ]
  },
  {
   "cell_type": "code",
   "execution_count": 18,
   "metadata": {},
   "outputs": [],
   "source": [
    "x_train, x_test, y_train, y_test = train_test_split(boston.data, boston.target, random_state=4, test_size=0.25)"
   ]
  },
  {
   "cell_type": "code",
   "execution_count": 48,
   "metadata": {},
   "outputs": [
    {
     "name": "stdout",
     "output_type": "stream",
     "text": [
      "Training_r2:0.7149332412365919 +/- 0.09534062173846354 with 95% CI:\n",
      "[0.77716859 0.69559834 0.73925719 0.72749463 0.63514745]\n",
      "Tree_param {'criterion': 'mse', 'max_depth': None, 'max_features': None, 'max_leaf_nodes': None, 'min_impurity_decrease': 0.0, 'min_impurity_split': None, 'min_samples_leaf': 1, 'min_samples_split': 2, 'min_weight_fraction_leaf': 0.0, 'presort': False, 'random_state': None, 'splitter': 'best'}\n",
      "Test_r2:0.736403568674191\n"
     ]
    },
    {
     "name": "stderr",
     "output_type": "stream",
     "text": [
      "[Parallel(n_jobs=-1)]: Using backend LokyBackend with 4 concurrent workers.\n",
      "[Parallel(n_jobs=-1)]: Done   5 out of   5 | elapsed:    0.0s finished\n"
     ]
    }
   ],
   "source": [
    "#LogisticRegression\n",
    "LR_reg = tree.DecisionTreeRegressor()\n",
    "result_LR_reg = cross_val_score(LR_reg,x_train_ss, y_train_ss, scoring='r2', cv=5, verbose=1, n_jobs=-1)\n",
    "print('Training_r2:{} +/- {} with 95% CI:\\n{}'.format(np.mean(result_LR_reg), np.std(result_LR_reg)*2, result_LR_reg))\n",
    "LR_reg.fit(x_train_ss, y_train_ss)\n",
    "y_pred_LR = LR_reg.predict(x_test_ss)\n",
    "print('Tree_param', LR_reg.\n",
    "print('Test_r2:{}'.format(metrics.r2_score(y_test_ss, y_pred_LR)))"
   ]
  },
  {
   "cell_type": "code",
   "execution_count": 46,
   "metadata": {},
   "outputs": [
    {
     "name": "stdout",
     "output_type": "stream",
     "text": [
      "Fitting 5 folds for each of 40 candidates, totalling 200 fits\n"
     ]
    },
    {
     "name": "stderr",
     "output_type": "stream",
     "text": [
      "[Parallel(n_jobs=1)]: Using backend SequentialBackend with 1 concurrent workers.\n"
     ]
    },
    {
     "name": "stdout",
     "output_type": "stream",
     "text": [
      "0.780316712978648 {'max_depth': 4, 'min_samples_split': 4}\n",
      "test r2: 0.7236428696031709\n"
     ]
    },
    {
     "name": "stderr",
     "output_type": "stream",
     "text": [
      "[Parallel(n_jobs=1)]: Done 200 out of 200 | elapsed:    0.5s finished\n"
     ]
    }
   ],
   "source": [
    "#GridSearch\n",
    "param_grid = {'max_depth':[i for i in range(1, 11)], 'min_samples_split':[i for i in range(2, 6)]}\n",
    "tree_cv_reg = GridSearchCV(LR_reg, param_grid, scoring='r2',iid=False, cv=5, return_train_score=True, verbose=1)\n",
    "tree_cv_reg.fit(x_train, y_train)\n",
    "print(tree_cv_reg.best_score_, tree_cv_reg.best_params_)\n",
    "tree_reg = tree.DecisionTreeRegressor(max_depth=tree_cv_reg.best_params_['max_depth'],\n",
    "                                      min_samples_split=tree_cv_reg.best_params_['min_samples_split'])\n",
    "tree_reg.fit(x_train, y_train)\n",
    "y_pred_tree = tree_reg.predict(x_test)\n",
    "print('test r2:', metrics.r2_score(y_test, y_pred_tree))"
   ]
  },
  {
   "cell_type": "code",
   "execution_count": 47,
   "metadata": {},
   "outputs": [
    {
     "name": "stderr",
     "output_type": "stream",
     "text": [
      "[Parallel(n_jobs=-1)]: Using backend LokyBackend with 4 concurrent workers.\n"
     ]
    },
    {
     "name": "stdout",
     "output_type": "stream",
     "text": [
      "Training_r2:0.8511010259628163 +/- 0.08601722729424201 with 95% CI:\n",
      "[0.85567748 0.86519743 0.92059682 0.81951731 0.79451609]\n",
      "Test_r2:0.8826427743313583\n"
     ]
    },
    {
     "name": "stderr",
     "output_type": "stream",
     "text": [
      "[Parallel(n_jobs=-1)]: Done   5 out of   5 | elapsed:    1.9s finished\n"
     ]
    }
   ],
   "source": [
    "#GradientBoostingClassifier\n",
    "GB_reg = GradientBoostingRegressor()\n",
    "result_GB_reg = cross_val_score(GB_reg,x_train, y_train, scoring='r2', cv=5, verbose=1, n_jobs=-1)\n",
    "print('Training_r2:{} +/- {} with 95% CI:\\n{}'.format(np.mean(result_GB_reg), np.std(result_GB_reg)*2, result_GB_reg))\n",
    "GB_reg.fit(x_train, y_train)\n",
    "y_pred_GB = GB_reg.predict(x_test)\n",
    "print('Test_r2:{}'.format(metrics.r2_score(y_test, y_pred_GB)))"
   ]
  },
  {
   "cell_type": "code",
   "execution_count": 26,
   "metadata": {},
   "outputs": [
    {
     "name": "stdout",
     "output_type": "stream",
     "text": [
      "Training_r2:0.831752889236343 +/- 0.0783136948645489 with 95% CI:\n",
      "[0.84380527 0.84093437 0.87756376 0.83754083 0.75892022]\n",
      "Test_r2:0.8380448062547814\n"
     ]
    },
    {
     "name": "stderr",
     "output_type": "stream",
     "text": [
      "[Parallel(n_jobs=-1)]: Using backend LokyBackend with 4 concurrent workers.\n",
      "[Parallel(n_jobs=-1)]: Done   5 out of   5 | elapsed:    0.0s finished\n"
     ]
    }
   ],
   "source": [
    "#RandomForestClassifier\n",
    "RF_reg = RandomForestRegressor()\n",
    "result_RF_reg = cross_val_score(RF_reg,x_train, y_train, scoring='r2', cv=5, verbose=1, n_jobs=-1)\n",
    "print('Training_r2:{} +/- {} with 95% CI:\\n{}'.format(np.mean(result_RF_reg), np.std(result_RF_reg)*2, result_RF_reg))\n",
    "RF_reg.fit(x_train, y_train)\n",
    "y_pred_RF = RF_reg.predict(x_test)\n",
    "print('Test_r2:{}'.format(metrics.r2_score(y_test, y_pred_RF)))"
   ]
  }
 ],
 "metadata": {
  "kernelspec": {
   "display_name": "Python [conda env:my_env]",
   "language": "python",
   "name": "conda-env-my_env-py"
  },
  "language_info": {
   "codemirror_mode": {
    "name": "ipython",
    "version": 3
   },
   "file_extension": ".py",
   "mimetype": "text/x-python",
   "name": "python",
   "nbconvert_exporter": "python",
   "pygments_lexer": "ipython3",
   "version": "3.6.6"
  }
 },
 "nbformat": 4,
 "nbformat_minor": 2
}
