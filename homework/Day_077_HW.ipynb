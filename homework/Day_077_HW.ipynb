{
 "cells": [
  {
   "cell_type": "markdown",
   "metadata": {},
   "source": [
    "## Work\n",
    "1. 請將 Epoch 加到 500 個，並觀察 learning curve 的走勢\n",
    "2. 請將 Optimizer 換成 SGD，並觀察 learning curve 的走勢"
   ]
  },
  {
   "cell_type": "code",
   "execution_count": 1,
   "metadata": {},
   "outputs": [
    {
     "name": "stderr",
     "output_type": "stream",
     "text": [
      "Using TensorFlow backend.\n"
     ]
    }
   ],
   "source": [
    "import os\n",
    "import keras\n",
    "\n",
    "# 本作業可以不需使用 GPU, 將 GPU 設定為 \"無\" (若有 GPU 且想開啟，可設為 \"0\")\n",
    "os.environ[\"CUDA_VISIBLE_DEVICES\"] = \"\""
   ]
  },
  {
   "cell_type": "code",
   "execution_count": 2,
   "metadata": {},
   "outputs": [],
   "source": [
    "# 從 Keras 的內建功能中，取得 train 與 test 資料集\n",
    "train, test = keras.datasets.cifar10.load_data()"
   ]
  },
  {
   "cell_type": "code",
   "execution_count": 3,
   "metadata": {},
   "outputs": [],
   "source": [
    "# 將 X 與 Y 獨立放進變數\n",
    "x_train, y_train = train\n",
    "x_test, y_test = test\n",
    "# 資料前處理 - 標準化\n",
    "x_train = x_train / 255.\n",
    "x_test = x_test / 255.\n",
    "\n",
    "# 將資料從圖形 (RGB) 轉為向量 (Single Vector)\n",
    "x_train = x_train.reshape((len(x_train), -1))\n",
    "x_test = x_test.reshape((len(x_test), -1))\n",
    "\n",
    "# 將目標轉為 one-hot encoding\n",
    "y_train = keras.utils.to_categorical(y_train, num_classes=10)\n",
    "y_test = keras.utils.to_categorical(y_test, num_classes=10)"
   ]
  },
  {
   "cell_type": "code",
   "execution_count": 4,
   "metadata": {},
   "outputs": [
    {
     "data": {
      "text/plain": [
       "(50000, 32, 32, 3)"
      ]
     },
     "execution_count": 4,
     "metadata": {},
     "output_type": "execute_result"
    }
   ],
   "source": [
    "train[0].shape"
   ]
  },
  {
   "cell_type": "code",
   "execution_count": 6,
   "metadata": {},
   "outputs": [
    {
     "data": {
      "text/plain": [
       "((50000, 3072), (50000, 10))"
      ]
     },
     "execution_count": 6,
     "metadata": {},
     "output_type": "execute_result"
    }
   ],
   "source": [
    "x_train.shape, y_train.shape"
   ]
  },
  {
   "cell_type": "code",
   "execution_count": 7,
   "metadata": {},
   "outputs": [],
   "source": [
    "def build_mlp():\n",
    "    \"\"\"Code Here\n",
    "    建立你的神經網路\n",
    "    \"\"\"\n",
    "    input_layer = keras.layers.Input(shape=[x_train.shape[1]])\n",
    "    x = keras.layers.Dense(512, activation='relu')(input_layer)\n",
    "    x = keras.layers.Dense(256, activation='relu')(x)\n",
    "    x = keras.layers.Dense(128, activation='relu')(x)\n",
    "    output_layer = keras.layers.Dense(10, activation='softmax')(x)\n",
    "    model = keras.models.Model(inputs=[input_layer], outputs=[output_layer])\n",
    "    return model\n",
    "model = build_mlp()"
   ]
  },
  {
   "cell_type": "code",
   "execution_count": 8,
   "metadata": {},
   "outputs": [
    {
     "name": "stdout",
     "output_type": "stream",
     "text": [
      "_________________________________________________________________\n",
      "Layer (type)                 Output Shape              Param #   \n",
      "=================================================================\n",
      "input_1 (InputLayer)         (None, 3072)              0         \n",
      "_________________________________________________________________\n",
      "dense_1 (Dense)              (None, 512)               1573376   \n",
      "_________________________________________________________________\n",
      "dense_2 (Dense)              (None, 256)               131328    \n",
      "_________________________________________________________________\n",
      "dense_3 (Dense)              (None, 128)               32896     \n",
      "_________________________________________________________________\n",
      "dense_4 (Dense)              (None, 10)                1290      \n",
      "=================================================================\n",
      "Total params: 1,738,890\n",
      "Trainable params: 1,738,890\n",
      "Non-trainable params: 0\n",
      "_________________________________________________________________\n"
     ]
    }
   ],
   "source": [
    "\"\"\"\n",
    "Compile 模型\n",
    "\"\"\"\n",
    "model.summary()\n",
    "\n",
    "optimizer = keras.optimizers.adam(lr=0.001)\n",
    "model.compile(optimizer=optimizer, loss='categorical_crossentropy', metrics=['accuracy'])"
   ]
  },
  {
   "cell_type": "code",
   "execution_count": 9,
   "metadata": {
    "scrolled": true
   },
   "outputs": [
    {
     "name": "stdout",
     "output_type": "stream",
     "text": [
      "Train on 50000 samples, validate on 10000 samples\n",
      "Epoch 1/100\n",
      "50000/50000 [==============================] - 26s 515us/step - loss: 1.9579 - acc: 0.2934 - val_loss: 1.7675 - val_acc: 0.3702\n",
      "Epoch 2/100\n",
      "50000/50000 [==============================] - 25s 491us/step - loss: 1.7163 - acc: 0.3870 - val_loss: 1.6584 - val_acc: 0.4112\n",
      "Epoch 3/100\n",
      "50000/50000 [==============================] - 26s 518us/step - loss: 1.6165 - acc: 0.4231 - val_loss: 1.5720 - val_acc: 0.4426\n",
      "Epoch 4/100\n",
      "50000/50000 [==============================] - 27s 536us/step - loss: 1.5526 - acc: 0.4447 - val_loss: 1.5260 - val_acc: 0.4619\n",
      "Epoch 5/100\n",
      "50000/50000 [==============================] - 26s 523us/step - loss: 1.5108 - acc: 0.4607 - val_loss: 1.5085 - val_acc: 0.4648\n",
      "Epoch 6/100\n",
      "50000/50000 [==============================] - 27s 539us/step - loss: 1.4672 - acc: 0.4765 - val_loss: 1.4782 - val_acc: 0.4824\n",
      "Epoch 7/100\n",
      "50000/50000 [==============================] - 27s 545us/step - loss: 1.4385 - acc: 0.4880 - val_loss: 1.4566 - val_acc: 0.4843\n",
      "Epoch 8/100\n",
      "50000/50000 [==============================] - 28s 563us/step - loss: 1.4071 - acc: 0.4978 - val_loss: 1.4395 - val_acc: 0.4895\n",
      "Epoch 9/100\n",
      "50000/50000 [==============================] - 30s 604us/step - loss: 1.3795 - acc: 0.5066 - val_loss: 1.4384 - val_acc: 0.4962\n",
      "Epoch 10/100\n",
      "50000/50000 [==============================] - 1333s 27ms/step - loss: 1.3513 - acc: 0.5192 - val_loss: 1.4116 - val_acc: 0.5029\n",
      "Epoch 11/100\n",
      "50000/50000 [==============================] - 28s 555us/step - loss: 1.3223 - acc: 0.5286 - val_loss: 1.4091 - val_acc: 0.4955\n",
      "Epoch 12/100\n",
      "50000/50000 [==============================] - 28s 557us/step - loss: 1.3002 - acc: 0.5375 - val_loss: 1.4400 - val_acc: 0.4910\n",
      "Epoch 13/100\n",
      "50000/50000 [==============================] - 27s 534us/step - loss: 1.2825 - acc: 0.5416 - val_loss: 1.3911 - val_acc: 0.5095\n",
      "Epoch 14/100\n",
      "50000/50000 [==============================] - 29s 572us/step - loss: 1.2529 - acc: 0.5531 - val_loss: 1.4375 - val_acc: 0.4922\n",
      "Epoch 15/100\n",
      "50000/50000 [==============================] - 28s 566us/step - loss: 1.2325 - acc: 0.5579 - val_loss: 1.3655 - val_acc: 0.5218\n",
      "Epoch 16/100\n",
      "50000/50000 [==============================] - 30s 593us/step - loss: 1.2101 - acc: 0.5665 - val_loss: 1.3616 - val_acc: 0.5203\n",
      "Epoch 17/100\n",
      "50000/50000 [==============================] - 29s 570us/step - loss: 1.1925 - acc: 0.5754 - val_loss: 1.3718 - val_acc: 0.5171\n",
      "Epoch 18/100\n",
      "50000/50000 [==============================] - 28s 567us/step - loss: 1.1756 - acc: 0.5812 - val_loss: 1.3756 - val_acc: 0.5225\n",
      "Epoch 19/100\n",
      "50000/50000 [==============================] - 26s 510us/step - loss: 1.1475 - acc: 0.5929 - val_loss: 1.4141 - val_acc: 0.5053\n",
      "Epoch 20/100\n",
      "50000/50000 [==============================] - 26s 514us/step - loss: 1.1322 - acc: 0.5952 - val_loss: 1.3986 - val_acc: 0.5164\n",
      "Epoch 21/100\n",
      "50000/50000 [==============================] - 27s 544us/step - loss: 1.1052 - acc: 0.6055 - val_loss: 1.3584 - val_acc: 0.5302\n",
      "Epoch 22/100\n",
      "50000/50000 [==============================] - 28s 554us/step - loss: 1.0997 - acc: 0.6064 - val_loss: 1.3591 - val_acc: 0.5233\n",
      "Epoch 23/100\n",
      "50000/50000 [==============================] - 29s 584us/step - loss: 1.0711 - acc: 0.6157 - val_loss: 1.3661 - val_acc: 0.5305\n",
      "Epoch 24/100\n",
      "50000/50000 [==============================] - 31s 626us/step - loss: 1.0588 - acc: 0.6203 - val_loss: 1.3917 - val_acc: 0.5269\n",
      "Epoch 25/100\n",
      "50000/50000 [==============================] - 35s 703us/step - loss: 1.0426 - acc: 0.6252 - val_loss: 1.3776 - val_acc: 0.5252\n",
      "Epoch 26/100\n",
      "50000/50000 [==============================] - 36s 710us/step - loss: 1.0279 - acc: 0.6333 - val_loss: 1.3761 - val_acc: 0.5287\n",
      "Epoch 27/100\n",
      "50000/50000 [==============================] - 36s 728us/step - loss: 1.0000 - acc: 0.6411 - val_loss: 1.4241 - val_acc: 0.5264\n",
      "Epoch 28/100\n",
      "50000/50000 [==============================] - 34s 685us/step - loss: 0.9847 - acc: 0.6479 - val_loss: 1.3912 - val_acc: 0.5282\n",
      "Epoch 29/100\n",
      "50000/50000 [==============================] - 34s 687us/step - loss: 0.9582 - acc: 0.6590 - val_loss: 1.3848 - val_acc: 0.5286\n",
      "Epoch 30/100\n",
      "50000/50000 [==============================] - 34s 687us/step - loss: 0.9600 - acc: 0.6578 - val_loss: 1.4395 - val_acc: 0.5256\n",
      "Epoch 31/100\n",
      "50000/50000 [==============================] - 34s 686us/step - loss: 0.9509 - acc: 0.6591 - val_loss: 1.4326 - val_acc: 0.5218\n",
      "Epoch 32/100\n",
      "50000/50000 [==============================] - 34s 683us/step - loss: 0.9241 - acc: 0.6679 - val_loss: 1.4225 - val_acc: 0.5339\n",
      "Epoch 33/100\n",
      "50000/50000 [==============================] - 35s 700us/step - loss: 0.8990 - acc: 0.6788 - val_loss: 1.4736 - val_acc: 0.5183\n",
      "Epoch 34/100\n",
      "50000/50000 [==============================] - 37s 736us/step - loss: 0.8900 - acc: 0.6795 - val_loss: 1.5145 - val_acc: 0.5184\n",
      "Epoch 35/100\n",
      "50000/50000 [==============================] - 39s 775us/step - loss: 0.8671 - acc: 0.6920 - val_loss: 1.4406 - val_acc: 0.5332\n",
      "Epoch 36/100\n",
      "50000/50000 [==============================] - 35s 695us/step - loss: 0.8645 - acc: 0.6888 - val_loss: 1.4760 - val_acc: 0.5215\n",
      "Epoch 37/100\n",
      "50000/50000 [==============================] - 44s 885us/step - loss: 0.8436 - acc: 0.6983 - val_loss: 1.5444 - val_acc: 0.5203\n",
      "Epoch 38/100\n",
      "50000/50000 [==============================] - 37s 742us/step - loss: 0.8217 - acc: 0.7034 - val_loss: 1.5617 - val_acc: 0.5164\n",
      "Epoch 39/100\n",
      "50000/50000 [==============================] - 31s 618us/step - loss: 0.8020 - acc: 0.7134 - val_loss: 1.5264 - val_acc: 0.5228\n",
      "Epoch 40/100\n",
      "50000/50000 [==============================] - 30s 608us/step - loss: 0.7948 - acc: 0.7164 - val_loss: 1.5436 - val_acc: 0.5272\n",
      "Epoch 41/100\n",
      "50000/50000 [==============================] - 30s 602us/step - loss: 0.7811 - acc: 0.7215 - val_loss: 1.5227 - val_acc: 0.5247\n",
      "Epoch 42/100\n",
      "50000/50000 [==============================] - 34s 686us/step - loss: 0.7664 - acc: 0.7270 - val_loss: 1.6098 - val_acc: 0.5145\n",
      "Epoch 43/100\n",
      "50000/50000 [==============================] - 34s 672us/step - loss: 0.7472 - acc: 0.7309 - val_loss: 1.6400 - val_acc: 0.5067\n",
      "Epoch 44/100\n",
      "50000/50000 [==============================] - 34s 680us/step - loss: 0.7402 - acc: 0.7357 - val_loss: 1.6108 - val_acc: 0.5173\n",
      "Epoch 45/100\n",
      "50000/50000 [==============================] - 31s 623us/step - loss: 0.7304 - acc: 0.7379 - val_loss: 1.6359 - val_acc: 0.5179\n",
      "Epoch 46/100\n",
      "50000/50000 [==============================] - 31s 612us/step - loss: 0.7064 - acc: 0.7475 - val_loss: 1.6794 - val_acc: 0.5196\n",
      "Epoch 47/100\n",
      "50000/50000 [==============================] - 33s 669us/step - loss: 0.7117 - acc: 0.7442 - val_loss: 1.6799 - val_acc: 0.5171\n",
      "Epoch 48/100\n",
      "50000/50000 [==============================] - 35s 704us/step - loss: 0.6816 - acc: 0.7564 - val_loss: 1.7214 - val_acc: 0.5130\n",
      "Epoch 49/100\n",
      "50000/50000 [==============================] - 30s 607us/step - loss: 0.6774 - acc: 0.7555 - val_loss: 1.7025 - val_acc: 0.5183\n",
      "Epoch 50/100\n",
      "50000/50000 [==============================] - 32s 645us/step - loss: 0.6696 - acc: 0.7597 - val_loss: 1.7547 - val_acc: 0.5097\n",
      "Epoch 51/100\n",
      "50000/50000 [==============================] - 38s 754us/step - loss: 0.6431 - acc: 0.7683 - val_loss: 1.8026 - val_acc: 0.5138\n",
      "Epoch 52/100\n",
      "50000/50000 [==============================] - 34s 688us/step - loss: 0.6313 - acc: 0.7729 - val_loss: 1.8132 - val_acc: 0.5143\n",
      "Epoch 53/100\n",
      "50000/50000 [==============================] - 36s 726us/step - loss: 0.6253 - acc: 0.7779 - val_loss: 1.8589 - val_acc: 0.5045\n",
      "Epoch 54/100\n",
      "50000/50000 [==============================] - 36s 722us/step - loss: 0.6070 - acc: 0.7830 - val_loss: 1.8215 - val_acc: 0.5160\n",
      "Epoch 55/100\n",
      "50000/50000 [==============================] - 40s 793us/step - loss: 0.6057 - acc: 0.7817 - val_loss: 1.8497 - val_acc: 0.5116\n",
      "Epoch 56/100\n",
      "50000/50000 [==============================] - 40s 790us/step - loss: 0.5870 - acc: 0.7900 - val_loss: 1.8913 - val_acc: 0.5190\n",
      "Epoch 57/100\n",
      "50000/50000 [==============================] - 36s 718us/step - loss: 0.5709 - acc: 0.7950 - val_loss: 1.9007 - val_acc: 0.5046\n",
      "Epoch 58/100\n"
     ]
    },
    {
     "name": "stdout",
     "output_type": "stream",
     "text": [
      "50000/50000 [==============================] - 36s 724us/step - loss: 0.5736 - acc: 0.7943 - val_loss: 1.9576 - val_acc: 0.5087722 \n",
      "Epoch 59/100\n",
      "50000/50000 [==============================] - 34s 677us/step - loss: 0.5594 - acc: 0.7966 - val_loss: 2.0414 - val_acc: 0.5084\n",
      "Epoch 60/100\n",
      "50000/50000 [==============================] - 40s 808us/step - loss: 0.5512 - acc: 0.8008 - val_loss: 1.9422 - val_acc: 0.5074\n",
      "Epoch 61/100\n",
      "50000/50000 [==============================] - 38s 767us/step - loss: 0.5521 - acc: 0.8022 - val_loss: 1.9683 - val_acc: 0.5036\n",
      "Epoch 62/100\n",
      "50000/50000 [==============================] - 34s 673us/step - loss: 0.5265 - acc: 0.8116 - val_loss: 2.0086 - val_acc: 0.5065\n",
      "Epoch 63/100\n",
      "50000/50000 [==============================] - 35s 706us/step - loss: 0.5161 - acc: 0.8139 - val_loss: 2.1457 - val_acc: 0.4955\n",
      "Epoch 64/100\n",
      "50000/50000 [==============================] - 35s 704us/step - loss: 0.5153 - acc: 0.8150 - val_loss: 2.0782 - val_acc: 0.5121\n",
      "Epoch 65/100\n",
      "50000/50000 [==============================] - 37s 740us/step - loss: 0.5055 - acc: 0.8179 - val_loss: 2.1110 - val_acc: 0.5044\n",
      "Epoch 66/100\n",
      "50000/50000 [==============================] - 37s 743us/step - loss: 0.4821 - acc: 0.8264 - val_loss: 2.1048 - val_acc: 0.5126\n",
      "Epoch 67/100\n",
      "50000/50000 [==============================] - 41s 817us/step - loss: 0.4770 - acc: 0.8293 - val_loss: 2.1657 - val_acc: 0.5139\n",
      "Epoch 68/100\n",
      "50000/50000 [==============================] - 38s 754us/step - loss: 0.4776 - acc: 0.8265 - val_loss: 2.2438 - val_acc: 0.5128\n",
      "Epoch 69/100\n",
      "50000/50000 [==============================] - 39s 784us/step - loss: 0.4701 - acc: 0.8307 - val_loss: 2.1788 - val_acc: 0.5155\n",
      "Epoch 70/100\n",
      "50000/50000 [==============================] - 39s 789us/step - loss: 0.4493 - acc: 0.8416 - val_loss: 2.2485 - val_acc: 0.5015\n",
      "Epoch 71/100\n",
      "50000/50000 [==============================] - 33s 669us/step - loss: 0.4466 - acc: 0.8390 - val_loss: 2.2509 - val_acc: 0.5132\n",
      "Epoch 72/100\n",
      "50000/50000 [==============================] - 33s 663us/step - loss: 0.4295 - acc: 0.8447 - val_loss: 2.2858 - val_acc: 0.5091\n",
      "Epoch 73/100\n",
      "50000/50000 [==============================] - 37s 742us/step - loss: 0.4378 - acc: 0.8425 - val_loss: 2.3666 - val_acc: 0.5062\n",
      "Epoch 74/100\n",
      "50000/50000 [==============================] - 35s 702us/step - loss: 0.4467 - acc: 0.8377 - val_loss: 2.3825 - val_acc: 0.5073\n",
      "Epoch 75/100\n",
      "50000/50000 [==============================] - 34s 671us/step - loss: 0.4324 - acc: 0.8436 - val_loss: 2.3697 - val_acc: 0.5059\n",
      "Epoch 76/100\n",
      "50000/50000 [==============================] - 44s 873us/step - loss: 0.4163 - acc: 0.8488 - val_loss: 2.4169 - val_acc: 0.5028\n",
      "Epoch 77/100\n",
      "50000/50000 [==============================] - 39s 771us/step - loss: 0.4146 - acc: 0.8502 - val_loss: 2.4528 - val_acc: 0.5046\n",
      "Epoch 78/100\n",
      "50000/50000 [==============================] - 34s 673us/step - loss: 0.3906 - acc: 0.8586 - val_loss: 2.4864 - val_acc: 0.4980\n",
      "Epoch 79/100\n",
      "50000/50000 [==============================] - 36s 721us/step - loss: 0.3775 - acc: 0.8644 - val_loss: 2.5091 - val_acc: 0.4980\n",
      "Epoch 80/100\n",
      "50000/50000 [==============================] - 38s 769us/step - loss: 0.4204 - acc: 0.8498 - val_loss: 2.5048 - val_acc: 0.5001\n",
      "Epoch 81/100\n",
      "50000/50000 [==============================] - 37s 744us/step - loss: 0.3669 - acc: 0.8686 - val_loss: 2.5234 - val_acc: 0.5076\n",
      "Epoch 82/100\n",
      "50000/50000 [==============================] - 34s 678us/step - loss: 0.3610 - acc: 0.8711 - val_loss: 2.5831 - val_acc: 0.5063\n",
      "Epoch 83/100\n",
      "50000/50000 [==============================] - 38s 767us/step - loss: 0.3734 - acc: 0.8647 - val_loss: 2.6331 - val_acc: 0.4958\n",
      "Epoch 84/100\n",
      "50000/50000 [==============================] - 36s 719us/step - loss: 0.3667 - acc: 0.8686 - val_loss: 2.6094 - val_acc: 0.5090\n",
      "Epoch 85/100\n",
      "50000/50000 [==============================] - 33s 651us/step - loss: 0.3523 - acc: 0.8730 - val_loss: 2.6723 - val_acc: 0.4982\n",
      "Epoch 86/100\n",
      "50000/50000 [==============================] - 32s 631us/step - loss: 0.3569 - acc: 0.8733 - val_loss: 2.7389 - val_acc: 0.4974\n",
      "Epoch 87/100\n",
      "50000/50000 [==============================] - 32s 639us/step - loss: 0.3859 - acc: 0.8601 - val_loss: 2.7039 - val_acc: 0.5017\n",
      "Epoch 88/100\n",
      "50000/50000 [==============================] - 31s 614us/step - loss: 0.3584 - acc: 0.8706 - val_loss: 2.7271 - val_acc: 0.5029\n",
      "Epoch 89/100\n",
      "50000/50000 [==============================] - 31s 628us/step - loss: 0.3312 - acc: 0.8811 - val_loss: 2.8046 - val_acc: 0.5056\n",
      "Epoch 90/100\n",
      "50000/50000 [==============================] - 32s 641us/step - loss: 0.3173 - acc: 0.8872 - val_loss: 2.7969 - val_acc: 0.5005\n",
      "Epoch 91/100\n",
      "50000/50000 [==============================] - 31s 626us/step - loss: 0.3444 - acc: 0.8760 - val_loss: 2.7930 - val_acc: 0.5016\n",
      "Epoch 92/100\n",
      "50000/50000 [==============================] - 32s 631us/step - loss: 0.3386 - acc: 0.8768 - val_loss: 2.8990 - val_acc: 0.5018\n",
      "Epoch 93/100\n",
      "50000/50000 [==============================] - 40s 799us/step - loss: 0.3064 - acc: 0.8912 - val_loss: 2.8432 - val_acc: 0.5015\n",
      "Epoch 94/100\n",
      "50000/50000 [==============================] - 34s 675us/step - loss: 0.3315 - acc: 0.8813 - val_loss: 2.8759 - val_acc: 0.5010\n",
      "Epoch 95/100\n",
      "50000/50000 [==============================] - 31s 624us/step - loss: 0.3252 - acc: 0.8810 - val_loss: 2.9139 - val_acc: 0.5006\n",
      "Epoch 96/100\n",
      "50000/50000 [==============================] - 34s 681us/step - loss: 0.3188 - acc: 0.8845 - val_loss: 2.8616 - val_acc: 0.5037\n",
      "Epoch 97/100\n",
      "50000/50000 [==============================] - 35s 692us/step - loss: 0.3215 - acc: 0.8832 - val_loss: 3.0041 - val_acc: 0.5015\n",
      "Epoch 98/100\n",
      "50000/50000 [==============================] - 32s 642us/step - loss: 0.2882 - acc: 0.8946 - val_loss: 2.9631 - val_acc: 0.4986\n",
      "Epoch 99/100\n",
      "50000/50000 [==============================] - 33s 669us/step - loss: 0.2854 - acc: 0.8964 - val_loss: 3.0619 - val_acc: 0.4979\n",
      "Epoch 100/100\n",
      "50000/50000 [==============================] - 31s 610us/step - loss: 0.2813 - acc: 0.9005 - val_loss: 3.0891 - val_acc: 0.5001\n"
     ]
    },
    {
     "data": {
      "text/plain": [
       "<keras.callbacks.History at 0x1ccebf45748>"
      ]
     },
     "execution_count": 9,
     "metadata": {},
     "output_type": "execute_result"
    }
   ],
   "source": [
    "\"\"\"\n",
    "設定要訓練的 Epoch 數\n",
    "\"\"\"\n",
    "model.fit(x_train, y_train, \n",
    "          epochs=100, \n",
    "          batch_size=256, \n",
    "          validation_data=(x_test, y_test), \n",
    "          shuffle=True)"
   ]
  },
  {
   "cell_type": "code",
   "execution_count": 10,
   "metadata": {},
   "outputs": [
    {
     "data": {
      "text/plain": [
       "<Figure size 640x480 with 1 Axes>"
      ]
     },
     "metadata": {},
     "output_type": "display_data"
    },
    {
     "data": {
      "text/plain": [
       "<Figure size 640x480 with 1 Axes>"
      ]
     },
     "metadata": {},
     "output_type": "display_data"
    }
   ],
   "source": [
    "import matplotlib.pyplot as plt\n",
    "# 以視覺畫方式檢視訓練過程\n",
    "\n",
    "train_loss = model.history.history[\"loss\"]\n",
    "valid_loss = model.history.history[\"val_loss\"]\n",
    "\n",
    "train_acc = model.history.history[\"acc\"]\n",
    "valid_acc = model.history.history[\"val_acc\"]\n",
    "\n",
    "plt.plot(range(len(train_loss)), train_loss, label=\"train loss\")\n",
    "plt.plot(range(len(valid_loss)), valid_loss, label=\"valid loss\")\n",
    "plt.legend()\n",
    "plt.title(\"Loss\")\n",
    "plt.show()\n",
    "\n",
    "plt.plot(range(len(train_acc)), train_acc, label=\"train accuracy\")\n",
    "plt.plot(range(len(valid_acc)), valid_acc, label=\"valid accuracy\")\n",
    "plt.legend()\n",
    "plt.title(\"Accuracy\")\n",
    "plt.show()"
   ]
  }
 ],
 "metadata": {
  "kernelspec": {
   "display_name": "keras_yolov3",
   "language": "python",
   "name": "keras_yolov3"
  },
  "language_info": {
   "codemirror_mode": {
    "name": "ipython",
    "version": 3
   },
   "file_extension": ".py",
   "mimetype": "text/x-python",
   "name": "python",
   "nbconvert_exporter": "python",
   "pygments_lexer": "ipython3",
   "version": "3.5.6"
  },
  "widgets": {
   "state": {},
   "version": "1.1.2"
  }
 },
 "nbformat": 4,
 "nbformat_minor": 2
}
